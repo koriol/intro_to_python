{
  "nbformat": 4,
  "nbformat_minor": 0,
  "metadata": {
    "colab": {
      "provenance": [],
      "authorship_tag": "ABX9TyPGE/LpVh+wnu85v5lJLhQV",
      "include_colab_link": true
    },
    "kernelspec": {
      "name": "python3",
      "display_name": "Python 3"
    },
    "language_info": {
      "name": "python"
    }
  },
  "cells": [
    {
      "cell_type": "markdown",
      "metadata": {
        "id": "view-in-github",
        "colab_type": "text"
      },
      "source": [
        "<a href=\"https://colab.research.google.com/github/koriol/intro_to_python/blob/main/intro.ipynb\" target=\"_parent\"><img src=\"https://colab.research.google.com/assets/colab-badge.svg\" alt=\"Open In Colab\"/></a>"
      ]
    },
    {
      "cell_type": "code",
      "execution_count": 10,
      "metadata": {
        "colab": {
          "base_uri": "https://localhost:8080/"
        },
        "id": "NNR2C3E4ym8l",
        "outputId": "4cdc0381-9dc0-4899-d637-b442fae84983"
      },
      "outputs": [
        {
          "output_type": "stream",
          "name": "stdout",
          "text": [
            "Hello World!\n"
          ]
        }
      ],
      "source": [
        "print(\"Hello World!\")"
      ]
    },
    {
      "cell_type": "markdown",
      "source": [
        "Type ctrl + M M to shift between text or code, or you can hover your mouse over the cell to display code or text"
      ],
      "metadata": {
        "id": "PGNN-otHzfze"
      }
    },
    {
      "cell_type": "code",
      "source": [
        "# print1"
      ],
      "metadata": {
        "id": "Lof-yDflz8ha"
      },
      "execution_count": 11,
      "outputs": []
    },
    {
      "cell_type": "code",
      "source": [
        "print(1)"
      ],
      "metadata": {
        "colab": {
          "base_uri": "https://localhost:8080/"
        },
        "id": "JXHUr77wz_dn",
        "outputId": "dfb55d74-a4d5-431d-8656-88c392ad9671"
      },
      "execution_count": 12,
      "outputs": [
        {
          "output_type": "stream",
          "name": "stdout",
          "text": [
            "1\n"
          ]
        }
      ]
    },
    {
      "cell_type": "code",
      "source": [
        "12\n"
      ],
      "metadata": {
        "colab": {
          "base_uri": "https://localhost:8080/"
        },
        "id": "uD0NAQNd0BgP",
        "outputId": "71b85e0c-d146-424f-82a3-d053901b1633"
      },
      "execution_count": 13,
      "outputs": [
        {
          "output_type": "execute_result",
          "data": {
            "text/plain": [
              "12"
            ]
          },
          "metadata": {},
          "execution_count": 13
        }
      ]
    },
    {
      "cell_type": "code",
      "source": [
        "variable = 'something'"
      ],
      "metadata": {
        "id": "8D1j34St0GNy"
      },
      "execution_count": 14,
      "outputs": []
    },
    {
      "cell_type": "code",
      "source": [
        "variable\n"
      ],
      "metadata": {
        "colab": {
          "base_uri": "https://localhost:8080/",
          "height": 35
        },
        "id": "lPd6t_f30cSo",
        "outputId": "dc7bf377-42c9-424c-d332-aa913862583f"
      },
      "execution_count": 15,
      "outputs": [
        {
          "output_type": "execute_result",
          "data": {
            "text/plain": [
              "'something'"
            ],
            "application/vnd.google.colaboratory.intrinsic+json": {
              "type": "string"
            }
          },
          "metadata": {},
          "execution_count": 15
        }
      ]
    },
    {
      "cell_type": "code",
      "source": [
        "import this"
      ],
      "metadata": {
        "colab": {
          "base_uri": "https://localhost:8080/"
        },
        "id": "6kdNoRw_0hS8",
        "outputId": "b1649ddd-2019-43b4-8099-a55450b37254"
      },
      "execution_count": 16,
      "outputs": [
        {
          "output_type": "stream",
          "name": "stdout",
          "text": [
            "The Zen of Python, by Tim Peters\n",
            "\n",
            "Beautiful is better than ugly.\n",
            "Explicit is better than implicit.\n",
            "Simple is better than complex.\n",
            "Complex is better than complicated.\n",
            "Flat is better than nested.\n",
            "Sparse is better than dense.\n",
            "Readability counts.\n",
            "Special cases aren't special enough to break the rules.\n",
            "Although practicality beats purity.\n",
            "Errors should never pass silently.\n",
            "Unless explicitly silenced.\n",
            "In the face of ambiguity, refuse the temptation to guess.\n",
            "There should be one-- and preferably only one --obvious way to do it.\n",
            "Although that way may not be obvious at first unless you're Dutch.\n",
            "Now is better than never.\n",
            "Although never is often better than *right* now.\n",
            "If the implementation is hard to explain, it's a bad idea.\n",
            "If the implementation is easy to explain, it may be a good idea.\n",
            "Namespaces are one honking great idea -- let's do more of those!\n"
          ]
        }
      ]
    },
    {
      "cell_type": "code",
      "source": [
        "#Whatever I want"
      ],
      "metadata": {
        "id": "XQZHkmO_0ton"
      },
      "execution_count": 17,
      "outputs": []
    },
    {
      "cell_type": "code",
      "source": [
        "\"\"\"Something. This is also a comment that can be multilined\n",
        "keep typing on different lines with triple quote magic\"\"\""
      ],
      "metadata": {
        "colab": {
          "base_uri": "https://localhost:8080/",
          "height": 35
        },
        "id": "stDtoJaI1xlK",
        "outputId": "a9fe0302-9b6d-4fc6-afc0-1cb0b1503390"
      },
      "execution_count": 18,
      "outputs": [
        {
          "output_type": "execute_result",
          "data": {
            "text/plain": [
              "'Something. This is also a comment that can be multilined\\nkeep typing on different lines with triple quote magic'"
            ],
            "application/vnd.google.colaboratory.intrinsic+json": {
              "type": "string"
            }
          },
          "metadata": {},
          "execution_count": 18
        }
      ]
    },
    {
      "cell_type": "code",
      "source": [
        "# This is float"
      ],
      "metadata": {
        "id": "G5fmpDIp2Bxb"
      },
      "execution_count": 19,
      "outputs": []
    },
    {
      "cell_type": "code",
      "source": [
        "y = 1.4"
      ],
      "metadata": {
        "id": "Y8dRmH8U2Ukt"
      },
      "execution_count": 20,
      "outputs": []
    },
    {
      "cell_type": "code",
      "source": [
        "print(y)"
      ],
      "metadata": {
        "colab": {
          "base_uri": "https://localhost:8080/"
        },
        "id": "bPBxPG122WOp",
        "outputId": "84d2fcfa-a1d2-4c38-ee60-31bf55ea5e10"
      },
      "execution_count": 21,
      "outputs": [
        {
          "output_type": "stream",
          "name": "stdout",
          "text": [
            "1.4\n"
          ]
        }
      ]
    },
    {
      "cell_type": "code",
      "source": [
        "# This is a complex number"
      ],
      "metadata": {
        "id": "dhrHEDXM2YOn"
      },
      "execution_count": 22,
      "outputs": []
    },
    {
      "cell_type": "code",
      "source": [
        "a = 3 + 5j"
      ],
      "metadata": {
        "id": "dRdRODjV2jWC"
      },
      "execution_count": 23,
      "outputs": []
    },
    {
      "cell_type": "code",
      "source": [
        "print(a)"
      ],
      "metadata": {
        "colab": {
          "base_uri": "https://localhost:8080/"
        },
        "id": "M3SbDk1-2lcQ",
        "outputId": "2cfeb74b-d586-43bd-a6af-f3e7e1608958"
      },
      "execution_count": 24,
      "outputs": [
        {
          "output_type": "stream",
          "name": "stdout",
          "text": [
            "(3+5j)\n"
          ]
        }
      ]
    },
    {
      "cell_type": "code",
      "source": [
        "x = 1"
      ],
      "metadata": {
        "id": "1433hedD3xo_"
      },
      "execution_count": 25,
      "outputs": []
    },
    {
      "cell_type": "markdown",
      "source": [
        "#Type Conversion\n",
        "\n",
        "*You can convert from one type to another with the `int()`, `float()`, and `complex()` methods*"
      ],
      "metadata": {
        "id": "46lR5OXi2mvY"
      }
    },
    {
      "cell_type": "code",
      "source": [
        "# Using our previous definitions"
      ],
      "metadata": {
        "id": "3DdUd1rl3ZpJ"
      },
      "execution_count": 26,
      "outputs": []
    },
    {
      "cell_type": "code",
      "source": [
        "print(x)\n",
        "print(y)\n",
        "print(a)"
      ],
      "metadata": {
        "colab": {
          "base_uri": "https://localhost:8080/"
        },
        "id": "HQyIWWQ63iDB",
        "outputId": "d7e3c67d-d31d-4d0a-b7dc-5661ffa0b7fb"
      },
      "execution_count": 27,
      "outputs": [
        {
          "output_type": "stream",
          "name": "stdout",
          "text": [
            "1\n",
            "1.4\n",
            "(3+5j)\n"
          ]
        }
      ]
    },
    {
      "cell_type": "code",
      "source": [
        "# Now converting an int to float\n",
        "x1 = float(x)\n",
        "print(f'Our int {x} is now a float --> {x1} yay!')"
      ],
      "metadata": {
        "colab": {
          "base_uri": "https://localhost:8080/"
        },
        "id": "b0yQD_Q433Xj",
        "outputId": "69eef8bf-12b4-48c2-a9eb-bf151dd04fc2"
      },
      "execution_count": 28,
      "outputs": [
        {
          "output_type": "stream",
          "name": "stdout",
          "text": [
            "Our int 1 is now a float --> 1.0 yay!\n"
          ]
        }
      ]
    },
    {
      "cell_type": "code",
      "source": [
        "# that f is for formatting. The brackets are place holders\n"
      ],
      "metadata": {
        "id": "uw38dV2Y4X80"
      },
      "execution_count": 29,
      "outputs": []
    },
    {
      "cell_type": "code",
      "source": [
        "# Now converting a float to int\n",
        "y1 = int(y)\n",
        "print(f'Our float {y} is now an int --> {y1} yay!')"
      ],
      "metadata": {
        "colab": {
          "base_uri": "https://localhost:8080/"
        },
        "id": "MRL1igsM5EHF",
        "outputId": "914b7d4c-5b98-4bc4-bc42-f0676a8b442c"
      },
      "execution_count": 30,
      "outputs": [
        {
          "output_type": "stream",
          "name": "stdout",
          "text": [
            "Our float 1.4 is now an int --> 1 yay!\n"
          ]
        }
      ]
    },
    {
      "cell_type": "code",
      "source": [
        "# Now, let's convert to complex number\n",
        "a1 = complex(x)\n",
        "print(f'Our int {x} is now a complex number --> {a1} yay!')"
      ],
      "metadata": {
        "colab": {
          "base_uri": "https://localhost:8080/"
        },
        "id": "1B2Q8HkC5v2O",
        "outputId": "ac2a20a3-d214-4a8f-9cf2-84e253a85a59"
      },
      "execution_count": 31,
      "outputs": [
        {
          "output_type": "stream",
          "name": "stdout",
          "text": [
            "Our int 1 is now a complex number --> (1+0j) yay!\n"
          ]
        }
      ]
    },
    {
      "cell_type": "code",
      "source": [
        "# We can check the types of our number by using the 'type()' method!\n",
        "print(type(x1))\n",
        "print(type(y1))\n",
        "print(type(a1))"
      ],
      "metadata": {
        "colab": {
          "base_uri": "https://localhost:8080/"
        },
        "id": "TOKRRoBj6FX3",
        "outputId": "80241574-5dbc-4945-8ec5-1c5efbf7b2fb"
      },
      "execution_count": 32,
      "outputs": [
        {
          "output_type": "stream",
          "name": "stdout",
          "text": [
            "<class 'float'>\n",
            "<class 'int'>\n",
            "<class 'complex'>\n"
          ]
        }
      ]
    },
    {
      "cell_type": "markdown",
      "source": [
        "#Numerical Operations\n",
        "\n",
        "*In Python, all numeric types (except complex) support the following operations. These are sorted by ascending priority.*"
      ],
      "metadata": {
        "id": "XxsvshDz8XgL"
      }
    },
    {
      "cell_type": "code",
      "source": [
        "# Sum\n",
        "print(x)\n",
        "print(y)\n",
        "\n",
        "print( x + y )\n",
        "print(23 + 4)"
      ],
      "metadata": {
        "colab": {
          "base_uri": "https://localhost:8080/"
        },
        "id": "Y0e5BKog8aoV",
        "outputId": "94e83cb7-c370-4676-e78b-b3f4b0e2975f"
      },
      "execution_count": 33,
      "outputs": [
        {
          "output_type": "stream",
          "name": "stdout",
          "text": [
            "1\n",
            "1.4\n",
            "2.4\n",
            "27\n"
          ]
        }
      ]
    },
    {
      "cell_type": "code",
      "source": [
        "# Subtraction\n",
        "print(y - x)\n",
        "print(43 - 5)"
      ],
      "metadata": {
        "colab": {
          "base_uri": "https://localhost:8080/"
        },
        "id": "roYjAach8kO9",
        "outputId": "b270c4a7-66d3-47a9-ecbf-b1c6718bb186"
      },
      "execution_count": 34,
      "outputs": [
        {
          "output_type": "stream",
          "name": "stdout",
          "text": [
            "0.3999999999999999\n",
            "38\n"
          ]
        }
      ]
    },
    {
      "cell_type": "code",
      "source": [
        "# Multiplication\n",
        "print( x * y)\n",
        "print( x * 2)\n",
        "print( 3 * 5)"
      ],
      "metadata": {
        "colab": {
          "base_uri": "https://localhost:8080/"
        },
        "id": "fCUPzYXD8zVV",
        "outputId": "b2f3172a-b2fd-4adc-eae3-743c62870402"
      },
      "execution_count": 35,
      "outputs": [
        {
          "output_type": "stream",
          "name": "stdout",
          "text": [
            "1.4\n",
            "2\n",
            "15\n"
          ]
        }
      ]
    },
    {
      "cell_type": "code",
      "source": [
        "# Division\n",
        "print(y/x)\n",
        "print(321/17)"
      ],
      "metadata": {
        "colab": {
          "base_uri": "https://localhost:8080/"
        },
        "id": "uI4NqmL49CG_",
        "outputId": "085c7907-60b7-48cf-957f-e4ab24d15d28"
      },
      "execution_count": 36,
      "outputs": [
        {
          "output_type": "stream",
          "name": "stdout",
          "text": [
            "1.4\n",
            "18.88235294117647\n"
          ]
        }
      ]
    },
    {
      "cell_type": "code",
      "source": [
        "# Floored division\n",
        "# Floor division is a normal division operation except that it returns\n",
        "# the largest possible integer\n",
        "\n",
        "print(y//x)\n",
        "print(321//17)\n"
      ],
      "metadata": {
        "colab": {
          "base_uri": "https://localhost:8080/"
        },
        "id": "Ze9EbkQ39RE6",
        "outputId": "489bf1eb-bae8-4b09-85db-6d78820bd908"
      },
      "execution_count": 37,
      "outputs": [
        {
          "output_type": "stream",
          "name": "stdout",
          "text": [
            "1.0\n",
            "18\n"
          ]
        }
      ]
    },
    {
      "cell_type": "code",
      "source": [
        "# modulus\n",
        "# The % symbol in Python is caled the Modulo Operator.\n",
        "# It returns the remainder of dividing the left hand operand by right hand operand.\n",
        "# It's used to get the remainder of a division problem.\n",
        "\n",
        "print(y % x)\n",
        "print(321 % 17)\n",
        "\n",
        "div = y/x\n",
        "mod = y\n",
        "\n",
        "print(f'When dividing our numbers {y} and {x} we get {div}')\n",
        "print(f\"...but when we use the modulus operator '%' we get {mod} which is the remainder of the operation\")"
      ],
      "metadata": {
        "colab": {
          "base_uri": "https://localhost:8080/"
        },
        "id": "NfEPzi_w9l8U",
        "outputId": "d516a3c2-26ca-4163-b028-f591e8c069c7"
      },
      "execution_count": 38,
      "outputs": [
        {
          "output_type": "stream",
          "name": "stdout",
          "text": [
            "0.3999999999999999\n",
            "15\n",
            "When dividing our numbers 1.4 and 1 we get 1.4\n",
            "...but when we use the modulus operator '%' we get 1.4 which is the remainder of the operation\n"
          ]
        }
      ]
    },
    {
      "cell_type": "code",
      "source": [
        "# Let's try with other numbers...\n",
        "# Let's take the number 321 and 17\n",
        "\n",
        "a = 321\n",
        "b = 17\n",
        "c = a/b\n",
        "d = a%b\n",
        "\n",
        "print(f'When we divide {a} by {b} we get {c}')\n",
        "\n",
        "print(f'But, if we want the remainder of the operation we get {d}')"
      ],
      "metadata": {
        "colab": {
          "base_uri": "https://localhost:8080/"
        },
        "id": "34sh9B4tFjaf",
        "outputId": "7dde73c0-c48f-43e8-9ebf-c773b3fa4d45"
      },
      "execution_count": 39,
      "outputs": [
        {
          "output_type": "stream",
          "name": "stdout",
          "text": [
            "When we divide 321 by 17 we get 18.88235294117647\n",
            "But, if we want the remainder of the operation we get 15\n"
          ]
        }
      ]
    },
    {
      "cell_type": "markdown",
      "source": [
        "#Built-in Methods\n",
        "\n",
        "`min()\n",
        "max()\n",
        "abs()\n",
        "pow()`\n",
        "\n",
        "The `min()` and `max()` functions can be used to find the lowest or highest value in a set of numbers or an iterable:\n",
        "\n"
      ],
      "metadata": {
        "id": "7SXlZrweGjxK"
      }
    },
    {
      "cell_type": "code",
      "source": [
        "# min\n",
        "x = min(23, 45, 89, 28)\n",
        "print(x)"
      ],
      "metadata": {
        "colab": {
          "base_uri": "https://localhost:8080/"
        },
        "id": "sHISIA6VHpo5",
        "outputId": "43e9a663-39a7-4985-c95d-a8de8ed595eb"
      },
      "execution_count": 40,
      "outputs": [
        {
          "output_type": "stream",
          "name": "stdout",
          "text": [
            "23\n"
          ]
        }
      ]
    },
    {
      "cell_type": "code",
      "source": [
        "# max\n",
        "y = max(23, 45, 89, 28)\n",
        "print(y)"
      ],
      "metadata": {
        "colab": {
          "base_uri": "https://localhost:8080/"
        },
        "id": "ixcxp-pkIQDW",
        "outputId": "68de1072-5e2e-450b-b38f-5e28c9a60966"
      },
      "execution_count": 41,
      "outputs": [
        {
          "output_type": "stream",
          "name": "stdout",
          "text": [
            "89\n"
          ]
        }
      ]
    },
    {
      "cell_type": "markdown",
      "source": [
        "The `abs()` function returns the absolute (positive) value of the specified number:"
      ],
      "metadata": {
        "id": "X1xBpE80IVxB"
      }
    },
    {
      "cell_type": "code",
      "source": [
        "x = abs(-23.567)\n",
        "print(x)"
      ],
      "metadata": {
        "colab": {
          "base_uri": "https://localhost:8080/"
        },
        "id": "qHnF6ivdIt3v",
        "outputId": "2828c458-b895-4a61-d6c3-4dde49b79b76"
      },
      "execution_count": 42,
      "outputs": [
        {
          "output_type": "stream",
          "name": "stdout",
          "text": [
            "23.567\n"
          ]
        }
      ]
    },
    {
      "cell_type": "code",
      "source": [
        "pow(3, 14)"
      ],
      "metadata": {
        "colab": {
          "base_uri": "https://localhost:8080/"
        },
        "id": "4Shab8UEI1Di",
        "outputId": "90e8d93e-cbc0-4004-9094-00b8c3f09b5c"
      },
      "execution_count": 43,
      "outputs": [
        {
          "output_type": "execute_result",
          "data": {
            "text/plain": [
              "4782969"
            ]
          },
          "metadata": {},
          "execution_count": 43
        }
      ]
    },
    {
      "cell_type": "code",
      "source": [
        "pow(3, -1)"
      ],
      "metadata": {
        "colab": {
          "base_uri": "https://localhost:8080/"
        },
        "id": "gj7dy3f8JCPv",
        "outputId": "0cedd5d0-566c-4b79-f529-98257e2835c8"
      },
      "execution_count": 44,
      "outputs": [
        {
          "output_type": "execute_result",
          "data": {
            "text/plain": [
              "0.3333333333333333"
            ]
          },
          "metadata": {},
          "execution_count": 44
        }
      ]
    },
    {
      "cell_type": "code",
      "source": [
        "pow(3, 0.5)"
      ],
      "metadata": {
        "colab": {
          "base_uri": "https://localhost:8080/"
        },
        "id": "gPRL-dYzJQHa",
        "outputId": "ae0fbd1a-b7cf-4315-fddc-0daa999b8b13"
      },
      "execution_count": 45,
      "outputs": [
        {
          "output_type": "execute_result",
          "data": {
            "text/plain": [
              "1.7320508075688772"
            ]
          },
          "metadata": {},
          "execution_count": 45
        }
      ]
    },
    {
      "cell_type": "code",
      "source": [
        "pow(3, x)"
      ],
      "metadata": {
        "colab": {
          "base_uri": "https://localhost:8080/"
        },
        "id": "YZL9DQsHJThF",
        "outputId": "d5dcea97-0591-4c8c-8a2e-9dad02423b24"
      },
      "execution_count": 46,
      "outputs": [
        {
          "output_type": "execute_result",
          "data": {
            "text/plain": [
              "175515958447.18857"
            ]
          },
          "metadata": {},
          "execution_count": 46
        }
      ]
    },
    {
      "cell_type": "markdown",
      "source": [
        "#Booleans"
      ],
      "metadata": {
        "id": "8W2oeWzcJYEz"
      }
    },
    {
      "cell_type": "code",
      "source": [
        "True"
      ],
      "metadata": {
        "colab": {
          "base_uri": "https://localhost:8080/"
        },
        "id": "d0ZNwS_NJnJJ",
        "outputId": "73761cff-743f-4f63-f47a-cbcf82bc02aa"
      },
      "execution_count": 47,
      "outputs": [
        {
          "output_type": "execute_result",
          "data": {
            "text/plain": [
              "True"
            ]
          },
          "metadata": {},
          "execution_count": 47
        }
      ]
    },
    {
      "cell_type": "code",
      "source": [
        "type(True)"
      ],
      "metadata": {
        "colab": {
          "base_uri": "https://localhost:8080/"
        },
        "id": "hcTWertnJoaR",
        "outputId": "48dcc263-3302-413c-cb08-8729188eb030"
      },
      "execution_count": 48,
      "outputs": [
        {
          "output_type": "execute_result",
          "data": {
            "text/plain": [
              "bool"
            ]
          },
          "metadata": {},
          "execution_count": 48
        }
      ]
    },
    {
      "cell_type": "code",
      "source": [
        "False"
      ],
      "metadata": {
        "colab": {
          "base_uri": "https://localhost:8080/"
        },
        "id": "PxMG2yrNJpzp",
        "outputId": "62d7fa2b-f10a-47d2-b583-ad7008a64c9e"
      },
      "execution_count": 49,
      "outputs": [
        {
          "output_type": "execute_result",
          "data": {
            "text/plain": [
              "False"
            ]
          },
          "metadata": {},
          "execution_count": 49
        }
      ]
    },
    {
      "cell_type": "code",
      "source": [
        "type(False)"
      ],
      "metadata": {
        "colab": {
          "base_uri": "https://localhost:8080/"
        },
        "id": "ysUqG_DcJro0",
        "outputId": "e20a29b9-17e8-4cc8-f95b-688bf684c63f"
      },
      "execution_count": 50,
      "outputs": [
        {
          "output_type": "execute_result",
          "data": {
            "text/plain": [
              "bool"
            ]
          },
          "metadata": {},
          "execution_count": 50
        }
      ]
    },
    {
      "cell_type": "code",
      "source": [
        "type(10 > 9)"
      ],
      "metadata": {
        "colab": {
          "base_uri": "https://localhost:8080/"
        },
        "id": "QYl39XojJt00",
        "outputId": "2e3485db-9fcf-43bf-bac3-52044bdede68"
      },
      "execution_count": 51,
      "outputs": [
        {
          "output_type": "execute_result",
          "data": {
            "text/plain": [
              "bool"
            ]
          },
          "metadata": {},
          "execution_count": 51
        }
      ]
    },
    {
      "cell_type": "code",
      "source": [
        "10 > 9"
      ],
      "metadata": {
        "colab": {
          "base_uri": "https://localhost:8080/"
        },
        "id": "f1yt8rWPJy0M",
        "outputId": "18cecb64-78db-4abb-efdb-a05bd9b1d9f4"
      },
      "execution_count": 52,
      "outputs": [
        {
          "output_type": "execute_result",
          "data": {
            "text/plain": [
              "True"
            ]
          },
          "metadata": {},
          "execution_count": 52
        }
      ]
    },
    {
      "cell_type": "code",
      "source": [
        "# len stands for length of something, counting the characters\n",
        "\n",
        "len('hello') < len('hi')"
      ],
      "metadata": {
        "colab": {
          "base_uri": "https://localhost:8080/"
        },
        "id": "6pCZoJaSJ7o5",
        "outputId": "c17b27af-0190-46cd-c111-c0d013607458"
      },
      "execution_count": 53,
      "outputs": [
        {
          "output_type": "execute_result",
          "data": {
            "text/plain": [
              "False"
            ]
          },
          "metadata": {},
          "execution_count": 53
        }
      ]
    },
    {
      "cell_type": "code",
      "source": [
        "# without len it is looking at the type\n",
        "'hello' < 'hi'"
      ],
      "metadata": {
        "colab": {
          "base_uri": "https://localhost:8080/"
        },
        "id": "-JO0iqK8LHtu",
        "outputId": "cdaac46b-3094-4f83-ebcc-94c492232af9"
      },
      "execution_count": 54,
      "outputs": [
        {
          "output_type": "execute_result",
          "data": {
            "text/plain": [
              "True"
            ]
          },
          "metadata": {},
          "execution_count": 54
        }
      ]
    },
    {
      "cell_type": "code",
      "source": [
        "sum = 100 ^ 5\n",
        "print(sum)"
      ],
      "metadata": {
        "colab": {
          "base_uri": "https://localhost:8080/"
        },
        "id": "qTpPzLfSLXN3",
        "outputId": "eb54c8a6-cdd4-42ae-893b-33c43a1fb2ae"
      },
      "execution_count": 55,
      "outputs": [
        {
          "output_type": "stream",
          "name": "stdout",
          "text": [
            "97\n"
          ]
        }
      ]
    },
    {
      "cell_type": "code",
      "source": [
        "print(3 ^ 2)"
      ],
      "metadata": {
        "colab": {
          "base_uri": "https://localhost:8080/"
        },
        "id": "mWuVf6kvMNhX",
        "outputId": "1872689f-20cc-409e-cce5-9bfb7a0d8846"
      },
      "execution_count": 56,
      "outputs": [
        {
          "output_type": "stream",
          "name": "stdout",
          "text": [
            "1\n"
          ]
        }
      ]
    },
    {
      "cell_type": "code",
      "source": [
        "print(1^2)"
      ],
      "metadata": {
        "colab": {
          "base_uri": "https://localhost:8080/"
        },
        "id": "Bx2UW9hHMXuK",
        "outputId": "3320c690-814c-4344-ee2a-b5a906341db5"
      },
      "execution_count": 57,
      "outputs": [
        {
          "output_type": "stream",
          "name": "stdout",
          "text": [
            "3\n"
          ]
        }
      ]
    },
    {
      "cell_type": "code",
      "source": [
        "print(1^10)"
      ],
      "metadata": {
        "colab": {
          "base_uri": "https://localhost:8080/"
        },
        "id": "BGSIIzNcMcqP",
        "outputId": "91aee695-1301-4063-a733-e681b13487d8"
      },
      "execution_count": 58,
      "outputs": [
        {
          "output_type": "stream",
          "name": "stdout",
          "text": [
            "11\n"
          ]
        }
      ]
    },
    {
      "cell_type": "markdown",
      "source": [
        "#More on lists"
      ],
      "metadata": {
        "id": "is0LB45aMocg"
      }
    },
    {
      "cell_type": "code",
      "source": [
        "myList = [2, 3, 5, 7, 8, 9]"
      ],
      "metadata": {
        "id": "VdnrFbVOM-S0"
      },
      "execution_count": 59,
      "outputs": []
    },
    {
      "cell_type": "code",
      "source": [
        "# append\n",
        "\n",
        "myList.append(78)"
      ],
      "metadata": {
        "id": "beZvIqRmM9sw"
      },
      "execution_count": 60,
      "outputs": []
    },
    {
      "cell_type": "code",
      "source": [
        "myList"
      ],
      "metadata": {
        "colab": {
          "base_uri": "https://localhost:8080/"
        },
        "id": "UmO_CdkyNOjh",
        "outputId": "10da0a44-72cf-4ebd-8999-ee9d8039cc85"
      },
      "execution_count": 61,
      "outputs": [
        {
          "output_type": "execute_result",
          "data": {
            "text/plain": [
              "[2, 3, 5, 7, 8, 9, 78]"
            ]
          },
          "metadata": {},
          "execution_count": 61
        }
      ]
    },
    {
      "cell_type": "code",
      "source": [
        "myLista = ['apples', 'bananas', 'guava', 'tamarind']"
      ],
      "metadata": {
        "id": "im5vpfHMNQQR"
      },
      "execution_count": 62,
      "outputs": []
    },
    {
      "cell_type": "code",
      "source": [
        "myLista2 = 'apples', 'bananas', 'guava', 'tamarind'"
      ],
      "metadata": {
        "id": "6W6g0hnqOxn4"
      },
      "execution_count": 63,
      "outputs": []
    },
    {
      "cell_type": "code",
      "source": [
        "type(myLista2)"
      ],
      "metadata": {
        "colab": {
          "base_uri": "https://localhost:8080/"
        },
        "id": "_M-leQ5LO4iZ",
        "outputId": "756ce21d-57ec-417d-ae97-5eb6c57b74d3"
      },
      "execution_count": 64,
      "outputs": [
        {
          "output_type": "execute_result",
          "data": {
            "text/plain": [
              "tuple"
            ]
          },
          "metadata": {},
          "execution_count": 64
        }
      ]
    },
    {
      "cell_type": "code",
      "source": [
        "myList.append(myLista)"
      ],
      "metadata": {
        "id": "dmqNSkkkOBuj"
      },
      "execution_count": 65,
      "outputs": []
    },
    {
      "cell_type": "code",
      "source": [
        "myList.append(abs(-8675309))"
      ],
      "metadata": {
        "id": "HLzqU2BENzQe"
      },
      "execution_count": 66,
      "outputs": []
    },
    {
      "cell_type": "code",
      "source": [
        "myList.append(pow(5,2))"
      ],
      "metadata": {
        "id": "RJqbis6WOTPh"
      },
      "execution_count": 67,
      "outputs": []
    },
    {
      "cell_type": "code",
      "source": [
        "myList"
      ],
      "metadata": {
        "colab": {
          "base_uri": "https://localhost:8080/"
        },
        "id": "IqOScUIOOY8N",
        "outputId": "7637c01e-cfbb-4dc3-e5e4-f3262c044acd"
      },
      "execution_count": 68,
      "outputs": [
        {
          "output_type": "execute_result",
          "data": {
            "text/plain": [
              "[2, 3, 5, 7, 8, 9, 78, ['apples', 'bananas', 'guava', 'tamarind'], 8675309, 25]"
            ]
          },
          "metadata": {},
          "execution_count": 68
        }
      ]
    },
    {
      "cell_type": "code",
      "source": [
        "w = 25\n",
        "myList.count(25)"
      ],
      "metadata": {
        "colab": {
          "base_uri": "https://localhost:8080/"
        },
        "id": "GGjxjwLxPE0E",
        "outputId": "546269a6-9fbb-4afb-d0ac-43c263404bb1"
      },
      "execution_count": 69,
      "outputs": [
        {
          "output_type": "execute_result",
          "data": {
            "text/plain": [
              "1"
            ]
          },
          "metadata": {},
          "execution_count": 69
        }
      ]
    },
    {
      "cell_type": "code",
      "source": [
        "myList.count(x)"
      ],
      "metadata": {
        "colab": {
          "base_uri": "https://localhost:8080/"
        },
        "id": "ydfyFsVMPEws",
        "outputId": "1423c13f-89a3-4024-80bc-a8e34ab0518f"
      },
      "execution_count": 70,
      "outputs": [
        {
          "output_type": "execute_result",
          "data": {
            "text/plain": [
              "0"
            ]
          },
          "metadata": {},
          "execution_count": 70
        }
      ]
    },
    {
      "cell_type": "code",
      "source": [
        "myList.count(w)"
      ],
      "metadata": {
        "colab": {
          "base_uri": "https://localhost:8080/"
        },
        "id": "ix-2no86PEuY",
        "outputId": "28e9158f-cd45-41ff-a077-87a8e6e31ad1"
      },
      "execution_count": 71,
      "outputs": [
        {
          "output_type": "execute_result",
          "data": {
            "text/plain": [
              "1"
            ]
          },
          "metadata": {},
          "execution_count": 71
        }
      ]
    },
    {
      "cell_type": "code",
      "source": [
        "myList.count(x + w)"
      ],
      "metadata": {
        "colab": {
          "base_uri": "https://localhost:8080/"
        },
        "id": "TuPgT9eaPEr3",
        "outputId": "ce3c7ce0-8d3c-4db3-a8bc-68de93ceae20"
      },
      "execution_count": 72,
      "outputs": [
        {
          "output_type": "execute_result",
          "data": {
            "text/plain": [
              "0"
            ]
          },
          "metadata": {},
          "execution_count": 72
        }
      ]
    },
    {
      "cell_type": "code",
      "source": [
        "myList.count(myLista)"
      ],
      "metadata": {
        "colab": {
          "base_uri": "https://localhost:8080/"
        },
        "id": "BuRUELvZPEpe",
        "outputId": "803bd22a-53cb-4848-9b8f-91e8e01e362a"
      },
      "execution_count": 73,
      "outputs": [
        {
          "output_type": "execute_result",
          "data": {
            "text/plain": [
              "1"
            ]
          },
          "metadata": {},
          "execution_count": 73
        }
      ]
    },
    {
      "cell_type": "code",
      "source": [
        "x"
      ],
      "metadata": {
        "colab": {
          "base_uri": "https://localhost:8080/"
        },
        "id": "yUJYWIDfPEm-",
        "outputId": "afb76e9f-f437-4125-9c18-e74a23924fda"
      },
      "execution_count": 74,
      "outputs": [
        {
          "output_type": "execute_result",
          "data": {
            "text/plain": [
              "23.567"
            ]
          },
          "metadata": {},
          "execution_count": 74
        }
      ]
    },
    {
      "cell_type": "code",
      "source": [
        "myList[7][3]"
      ],
      "metadata": {
        "colab": {
          "base_uri": "https://localhost:8080/",
          "height": 35
        },
        "id": "BzlQkUdfPEkZ",
        "outputId": "9014ce46-1595-4796-8f90-ba61df357b9f"
      },
      "execution_count": 75,
      "outputs": [
        {
          "output_type": "execute_result",
          "data": {
            "text/plain": [
              "'tamarind'"
            ],
            "application/vnd.google.colaboratory.intrinsic+json": {
              "type": "string"
            }
          },
          "metadata": {},
          "execution_count": 75
        }
      ]
    },
    {
      "cell_type": "code",
      "source": [
        "# This looked at the place of the element in the list\n",
        "# the second number in the brackets is the place of the element within the list *list-ception*"
      ],
      "metadata": {
        "id": "vKYrK8tRPEiH"
      },
      "execution_count": 76,
      "outputs": []
    },
    {
      "cell_type": "code",
      "source": [
        "myList.append('This is a string')"
      ],
      "metadata": {
        "id": "w5qfZFE6PEfe"
      },
      "execution_count": 77,
      "outputs": []
    },
    {
      "cell_type": "code",
      "source": [
        "myList[-1]"
      ],
      "metadata": {
        "colab": {
          "base_uri": "https://localhost:8080/",
          "height": 35
        },
        "id": "YR3Et-byPEdQ",
        "outputId": "b6909d4c-bc37-452c-a78b-c446a5c16baf"
      },
      "execution_count": 78,
      "outputs": [
        {
          "output_type": "execute_result",
          "data": {
            "text/plain": [
              "'This is a string'"
            ],
            "application/vnd.google.colaboratory.intrinsic+json": {
              "type": "string"
            }
          },
          "metadata": {},
          "execution_count": 78
        }
      ]
    },
    {
      "cell_type": "code",
      "source": [
        "# the negative 1 tells you what was last inputted into the list"
      ],
      "metadata": {
        "id": "I5VC0Uk1Oarc"
      },
      "execution_count": 79,
      "outputs": []
    },
    {
      "cell_type": "code",
      "source": [
        "myDict = {'k1':'v1', 'k2':'v2', 'k3':'v3'}"
      ],
      "metadata": {
        "id": "ahfr2CCZR7km"
      },
      "execution_count": 80,
      "outputs": []
    },
    {
      "cell_type": "code",
      "source": [
        "myDict.keys()"
      ],
      "metadata": {
        "colab": {
          "base_uri": "https://localhost:8080/"
        },
        "id": "_IXQWNPpTKGo",
        "outputId": "58d80a73-0389-442a-c69c-dcf61a2b9417"
      },
      "execution_count": 81,
      "outputs": [
        {
          "output_type": "execute_result",
          "data": {
            "text/plain": [
              "dict_keys(['k1', 'k2', 'k3'])"
            ]
          },
          "metadata": {},
          "execution_count": 81
        }
      ]
    },
    {
      "cell_type": "code",
      "source": [
        "myDict.values()"
      ],
      "metadata": {
        "colab": {
          "base_uri": "https://localhost:8080/"
        },
        "id": "2d6nIrHdTNcr",
        "outputId": "b9263f5d-eecd-4413-a178-b2db8a2cfbf1"
      },
      "execution_count": 82,
      "outputs": [
        {
          "output_type": "execute_result",
          "data": {
            "text/plain": [
              "dict_values(['v1', 'v2', 'v3'])"
            ]
          },
          "metadata": {},
          "execution_count": 82
        }
      ]
    },
    {
      "cell_type": "code",
      "source": [
        "myDict.items()"
      ],
      "metadata": {
        "colab": {
          "base_uri": "https://localhost:8080/"
        },
        "id": "qvqIzSdiTQSP",
        "outputId": "a7e2daed-1d16-42e0-899e-8ccc7d9269d2"
      },
      "execution_count": 83,
      "outputs": [
        {
          "output_type": "execute_result",
          "data": {
            "text/plain": [
              "dict_items([('k1', 'v1'), ('k2', 'v2'), ('k3', 'v3')])"
            ]
          },
          "metadata": {},
          "execution_count": 83
        }
      ]
    },
    {
      "cell_type": "code",
      "source": [
        "myDict2 = { 'myList':myLista }"
      ],
      "metadata": {
        "id": "HYqIJDakTTau"
      },
      "execution_count": 84,
      "outputs": []
    },
    {
      "cell_type": "code",
      "source": [
        "myDict2.keys()"
      ],
      "metadata": {
        "colab": {
          "base_uri": "https://localhost:8080/"
        },
        "id": "rwXMxGQ5TdCi",
        "outputId": "182fde80-5735-4598-a4ba-ce2d880d99ae"
      },
      "execution_count": 85,
      "outputs": [
        {
          "output_type": "execute_result",
          "data": {
            "text/plain": [
              "dict_keys(['myList'])"
            ]
          },
          "metadata": {},
          "execution_count": 85
        }
      ]
    },
    {
      "cell_type": "code",
      "source": [
        "myDict2.values()"
      ],
      "metadata": {
        "colab": {
          "base_uri": "https://localhost:8080/"
        },
        "id": "nxaN8S_BTnwS",
        "outputId": "dfce3276-a036-4126-ef6e-26164910c331"
      },
      "execution_count": 86,
      "outputs": [
        {
          "output_type": "execute_result",
          "data": {
            "text/plain": [
              "dict_values([['apples', 'bananas', 'guava', 'tamarind']])"
            ]
          },
          "metadata": {},
          "execution_count": 86
        }
      ]
    },
    {
      "cell_type": "code",
      "source": [
        "# strings are immutable"
      ],
      "metadata": {
        "id": "u8ovrlgRTwgv"
      },
      "execution_count": 87,
      "outputs": []
    },
    {
      "cell_type": "code",
      "source": [
        "# pop by itself pops the last element out of the list\n",
        "# you can pop an indexed specific element by pop(index number)\n",
        "# when adding lists together, they combine without completing hte operation for example:\n",
        "even = [2, 4, 6, 8]\n",
        "odd = [1, 3, 5, 7, 9]\n",
        "numbers = odd + even\n",
        "numbers"
      ],
      "metadata": {
        "colab": {
          "base_uri": "https://localhost:8080/"
        },
        "id": "mqiCQA3I5F0s",
        "outputId": "3bdadd7f-a7a3-42d2-d31e-dc09c09e20e7"
      },
      "execution_count": 88,
      "outputs": [
        {
          "output_type": "execute_result",
          "data": {
            "text/plain": [
              "[1, 3, 5, 7, 9, 2, 4, 6, 8]"
            ]
          },
          "metadata": {},
          "execution_count": 88
        }
      ]
    },
    {
      "cell_type": "code",
      "source": [
        "len(numbers)"
      ],
      "metadata": {
        "colab": {
          "base_uri": "https://localhost:8080/"
        },
        "id": "nZXU3w4t6Aji",
        "outputId": "58b2d28a-eedd-4c54-b165-efbdaa24bda4"
      },
      "execution_count": 89,
      "outputs": [
        {
          "output_type": "execute_result",
          "data": {
            "text/plain": [
              "9"
            ]
          },
          "metadata": {},
          "execution_count": 89
        }
      ]
    },
    {
      "cell_type": "code",
      "source": [
        "sorted(numbers)"
      ],
      "metadata": {
        "colab": {
          "base_uri": "https://localhost:8080/"
        },
        "id": "Odg5ImEJ6C2b",
        "outputId": "28cbd351-67a3-4631-b5e5-4a284ad9ffe0"
      },
      "execution_count": 90,
      "outputs": [
        {
          "output_type": "execute_result",
          "data": {
            "text/plain": [
              "[1, 2, 3, 4, 5, 6, 7, 8, 9]"
            ]
          },
          "metadata": {},
          "execution_count": 90
        }
      ]
    },
    {
      "cell_type": "code",
      "source": [
        "sorted(myLista)"
      ],
      "metadata": {
        "colab": {
          "base_uri": "https://localhost:8080/"
        },
        "id": "dBabPUMo7c0I",
        "outputId": "2175dcb3-4b3c-4305-f639-81ac3b738575"
      },
      "execution_count": 91,
      "outputs": [
        {
          "output_type": "execute_result",
          "data": {
            "text/plain": [
              "['apples', 'bananas', 'guava', 'tamarind']"
            ]
          },
          "metadata": {},
          "execution_count": 91
        }
      ]
    },
    {
      "cell_type": "code",
      "source": [
        "sorted(myList)"
      ],
      "metadata": {
        "colab": {
          "base_uri": "https://localhost:8080/",
          "height": 166
        },
        "id": "m0rZ6fih7jLo",
        "outputId": "e95f4e9b-3522-4ec9-8f9d-4712b0ce978b"
      },
      "execution_count": 92,
      "outputs": [
        {
          "output_type": "error",
          "ename": "TypeError",
          "evalue": "ignored",
          "traceback": [
            "\u001b[0;31m---------------------------------------------------------------------------\u001b[0m",
            "\u001b[0;31mTypeError\u001b[0m                                 Traceback (most recent call last)",
            "\u001b[0;32m<ipython-input-92-975ed5727ddf>\u001b[0m in \u001b[0;36m<cell line: 1>\u001b[0;34m()\u001b[0m\n\u001b[0;32m----> 1\u001b[0;31m \u001b[0msorted\u001b[0m\u001b[0;34m(\u001b[0m\u001b[0mmyList\u001b[0m\u001b[0;34m)\u001b[0m\u001b[0;34m\u001b[0m\u001b[0;34m\u001b[0m\u001b[0m\n\u001b[0m",
            "\u001b[0;31mTypeError\u001b[0m: '<' not supported between instances of 'list' and 'int'"
          ]
        }
      ]
    },
    {
      "cell_type": "code",
      "source": [
        "myList"
      ],
      "metadata": {
        "colab": {
          "base_uri": "https://localhost:8080/"
        },
        "id": "KOoPjksZ8AtT",
        "outputId": "b7e29b26-9515-49a8-c31c-a5873cbd3a28"
      },
      "execution_count": 93,
      "outputs": [
        {
          "output_type": "execute_result",
          "data": {
            "text/plain": [
              "[2,\n",
              " 3,\n",
              " 5,\n",
              " 7,\n",
              " 8,\n",
              " 9,\n",
              " 78,\n",
              " ['apples', 'bananas', 'guava', 'tamarind'],\n",
              " 8675309,\n",
              " 25,\n",
              " 'This is a string']"
            ]
          },
          "metadata": {},
          "execution_count": 93
        }
      ]
    },
    {
      "cell_type": "code",
      "source": [
        "myList[7]"
      ],
      "metadata": {
        "colab": {
          "base_uri": "https://localhost:8080/"
        },
        "id": "edDJV-ZH8Fqg",
        "outputId": "f1c3b5d6-cfcc-4ea7-e3d4-7c7c0bdc8561"
      },
      "execution_count": 94,
      "outputs": [
        {
          "output_type": "execute_result",
          "data": {
            "text/plain": [
              "['apples', 'bananas', 'guava', 'tamarind']"
            ]
          },
          "metadata": {},
          "execution_count": 94
        }
      ]
    },
    {
      "cell_type": "code",
      "source": [
        "myList.pop(7)"
      ],
      "metadata": {
        "colab": {
          "base_uri": "https://localhost:8080/"
        },
        "id": "-rA_GnJ68Yoi",
        "outputId": "50895e90-4fab-4fd3-fb3b-215d701db163"
      },
      "execution_count": 96,
      "outputs": [
        {
          "output_type": "execute_result",
          "data": {
            "text/plain": [
              "['apples', 'bananas', 'guava', 'tamarind']"
            ]
          },
          "metadata": {},
          "execution_count": 96
        }
      ]
    },
    {
      "cell_type": "code",
      "source": [
        "myList"
      ],
      "metadata": {
        "colab": {
          "base_uri": "https://localhost:8080/"
        },
        "id": "elOHSdDU8gwi",
        "outputId": "d274db0c-367c-4c7a-ee0f-23f2eb8bad93"
      },
      "execution_count": 97,
      "outputs": [
        {
          "output_type": "execute_result",
          "data": {
            "text/plain": [
              "[2, 3, 5, 7, 8, 9, 78, 8675309, 25, 'This is a string']"
            ]
          },
          "metadata": {},
          "execution_count": 97
        }
      ]
    },
    {
      "cell_type": "code",
      "source": [
        "sorted(myList)"
      ],
      "metadata": {
        "colab": {
          "base_uri": "https://localhost:8080/",
          "height": 166
        },
        "id": "n9QQ3U1z8oFp",
        "outputId": "9ad2e3b3-a102-4a65-eccc-00ff6112a1cc"
      },
      "execution_count": 98,
      "outputs": [
        {
          "output_type": "error",
          "ename": "TypeError",
          "evalue": "ignored",
          "traceback": [
            "\u001b[0;31m---------------------------------------------------------------------------\u001b[0m",
            "\u001b[0;31mTypeError\u001b[0m                                 Traceback (most recent call last)",
            "\u001b[0;32m<ipython-input-98-975ed5727ddf>\u001b[0m in \u001b[0;36m<cell line: 1>\u001b[0;34m()\u001b[0m\n\u001b[0;32m----> 1\u001b[0;31m \u001b[0msorted\u001b[0m\u001b[0;34m(\u001b[0m\u001b[0mmyList\u001b[0m\u001b[0;34m)\u001b[0m\u001b[0;34m\u001b[0m\u001b[0;34m\u001b[0m\u001b[0m\n\u001b[0m",
            "\u001b[0;31mTypeError\u001b[0m: '<' not supported between instances of 'str' and 'int'"
          ]
        }
      ]
    },
    {
      "cell_type": "code",
      "source": [
        "myDict = {'key1':['value1', 'value1.0', 'value1.1', 'value1.2'], 'key2':'value2', 'key3':'value3'}\n",
        "myDict"
      ],
      "metadata": {
        "colab": {
          "base_uri": "https://localhost:8080/"
        },
        "id": "maZZh93r8r4T",
        "outputId": "a198c424-d2e4-4874-aaa6-0a36d6c8c356"
      },
      "execution_count": 104,
      "outputs": [
        {
          "output_type": "execute_result",
          "data": {
            "text/plain": [
              "{'key1': ['value1', ' value1.0', 'value1.1', 'value1.2'],\n",
              " 'key2': 'value2',\n",
              " 'key3': 'value3'}"
            ]
          },
          "metadata": {},
          "execution_count": 104
        }
      ]
    },
    {
      "cell_type": "code",
      "source": [
        "myDict['key1'] = 'mangos'"
      ],
      "metadata": {
        "id": "jUeYl9kW9ukc"
      },
      "execution_count": 102,
      "outputs": []
    },
    {
      "cell_type": "code",
      "source": [
        "myDict['key1']"
      ],
      "metadata": {
        "colab": {
          "base_uri": "https://localhost:8080/",
          "height": 35
        },
        "id": "Vzfz2Flr90V9",
        "outputId": "8012a038-99a2-4c6b-9c1e-e4739235b89f"
      },
      "execution_count": 103,
      "outputs": [
        {
          "output_type": "execute_result",
          "data": {
            "text/plain": [
              "'mangos'"
            ],
            "application/vnd.google.colaboratory.intrinsic+json": {
              "type": "string"
            }
          },
          "metadata": {},
          "execution_count": 103
        }
      ]
    },
    {
      "cell_type": "code",
      "source": [
        "myDict['key1'][1]"
      ],
      "metadata": {
        "colab": {
          "base_uri": "https://localhost:8080/",
          "height": 35
        },
        "id": "m00jmz7k93RT",
        "outputId": "0f761601-1876-4025-ab7c-35bca2250d20"
      },
      "execution_count": 105,
      "outputs": [
        {
          "output_type": "execute_result",
          "data": {
            "text/plain": [
              "' value1.0'"
            ],
            "application/vnd.google.colaboratory.intrinsic+json": {
              "type": "string"
            }
          },
          "metadata": {},
          "execution_count": 105
        }
      ]
    },
    {
      "cell_type": "markdown",
      "source": [
        "#Tuples"
      ],
      "metadata": {
        "id": "Vjt08FOI-qIE"
      }
    },
    {
      "cell_type": "code",
      "source": [
        "prime_number = (2, 3, 5, 7, 11)\n",
        "prime_number"
      ],
      "metadata": {
        "colab": {
          "base_uri": "https://localhost:8080/"
        },
        "id": "jS91il9JA7Fd",
        "outputId": "9c0a82ea-45c6-4449-ae6b-2df0dba1ce35"
      },
      "execution_count": 106,
      "outputs": [
        {
          "output_type": "execute_result",
          "data": {
            "text/plain": [
              "(2, 3, 5, 7, 11)"
            ]
          },
          "metadata": {},
          "execution_count": 106
        }
      ]
    },
    {
      "cell_type": "code",
      "source": [
        "type(prime_number)"
      ],
      "metadata": {
        "colab": {
          "base_uri": "https://localhost:8080/"
        },
        "id": "000XDljoBESb",
        "outputId": "a0b892a7-2068-4f9d-9879-33f058bdccc7"
      },
      "execution_count": 107,
      "outputs": [
        {
          "output_type": "execute_result",
          "data": {
            "text/plain": [
              "tuple"
            ]
          },
          "metadata": {},
          "execution_count": 107
        }
      ]
    },
    {
      "cell_type": "code",
      "source": [
        "perfect_numbers = [1, 4, 9, 16, 25, 36]\n",
        "type(perfect_numbers)"
      ],
      "metadata": {
        "colab": {
          "base_uri": "https://localhost:8080/"
        },
        "id": "WTuSEwAcBHcT",
        "outputId": "41bbd27e-6139-4135-dbd6-cfae7dfadabd"
      },
      "execution_count": 108,
      "outputs": [
        {
          "output_type": "execute_result",
          "data": {
            "text/plain": [
              "list"
            ]
          },
          "metadata": {},
          "execution_count": 108
        }
      ]
    },
    {
      "cell_type": "code",
      "source": [
        "prime_number = list(prime_number)"
      ],
      "metadata": {
        "id": "1FB4MgNhBQ_k"
      },
      "execution_count": 112,
      "outputs": []
    },
    {
      "cell_type": "code",
      "source": [
        "type(prime_number)"
      ],
      "metadata": {
        "colab": {
          "base_uri": "https://localhost:8080/"
        },
        "id": "N9JK0hF0Bkj6",
        "outputId": "b4a39b87-6141-4700-8c13-7b882c43e63b"
      },
      "execution_count": 113,
      "outputs": [
        {
          "output_type": "execute_result",
          "data": {
            "text/plain": [
              "list"
            ]
          },
          "metadata": {},
          "execution_count": 113
        }
      ]
    },
    {
      "cell_type": "code",
      "source": [
        "numbers = [1, 2, 3, 4, 5, 5, 5, 5, 99, 44]"
      ],
      "metadata": {
        "id": "TSSFzjavB0Wh"
      },
      "execution_count": 120,
      "outputs": []
    },
    {
      "cell_type": "code",
      "source": [
        "type(numbers)"
      ],
      "metadata": {
        "colab": {
          "base_uri": "https://localhost:8080/"
        },
        "id": "nnRMR_5eCQEu",
        "outputId": "eed8e970-cb66-4514-cfb0-3561c8429fb2"
      },
      "execution_count": 115,
      "outputs": [
        {
          "output_type": "execute_result",
          "data": {
            "text/plain": [
              "list"
            ]
          },
          "metadata": {},
          "execution_count": 115
        }
      ]
    },
    {
      "cell_type": "code",
      "source": [
        "set(numbers)"
      ],
      "metadata": {
        "colab": {
          "base_uri": "https://localhost:8080/"
        },
        "id": "ZXnwpVONCSfG",
        "outputId": "53c85555-665c-46da-ba10-4f5caa7cf8aa"
      },
      "execution_count": 116,
      "outputs": [
        {
          "output_type": "execute_result",
          "data": {
            "text/plain": [
              "{1, 2, 3, 4, 5}"
            ]
          },
          "metadata": {},
          "execution_count": 116
        }
      ]
    },
    {
      "cell_type": "code",
      "source": [
        "numbers2 = set(numbers)"
      ],
      "metadata": {
        "id": "uSRR4-zBCWiA"
      },
      "execution_count": 117,
      "outputs": []
    },
    {
      "cell_type": "code",
      "source": [
        "numbers2"
      ],
      "metadata": {
        "colab": {
          "base_uri": "https://localhost:8080/"
        },
        "id": "Xpx0zrWtCdKO",
        "outputId": "d77c6d3b-5e0b-4559-aa72-6204c898eafd"
      },
      "execution_count": 118,
      "outputs": [
        {
          "output_type": "execute_result",
          "data": {
            "text/plain": [
              "{1, 2, 3, 4, 5}"
            ]
          },
          "metadata": {},
          "execution_count": 118
        }
      ]
    },
    {
      "cell_type": "code",
      "source": [
        "# set is a list with non-repeating objects, you can add with .add"
      ],
      "metadata": {
        "id": "kyabGLgSCfBw"
      },
      "execution_count": 119,
      "outputs": []
    },
    {
      "cell_type": "code",
      "source": [
        "sorted(numbers)"
      ],
      "metadata": {
        "colab": {
          "base_uri": "https://localhost:8080/"
        },
        "id": "YgrFRpYHCvFG",
        "outputId": "97c2ea42-d519-400b-f7e7-7bca0f435b51"
      },
      "execution_count": 121,
      "outputs": [
        {
          "output_type": "execute_result",
          "data": {
            "text/plain": [
              "[1, 2, 3, 4, 5, 5, 5, 5, 44, 99]"
            ]
          },
          "metadata": {},
          "execution_count": 121
        }
      ]
    },
    {
      "cell_type": "code",
      "source": [
        "sorted(set(numbers))"
      ],
      "metadata": {
        "colab": {
          "base_uri": "https://localhost:8080/"
        },
        "id": "UQ88Xd7sC5Wc",
        "outputId": "ff8f49cd-445d-42f9-f794-21a132714c57"
      },
      "execution_count": 122,
      "outputs": [
        {
          "output_type": "execute_result",
          "data": {
            "text/plain": [
              "[1, 2, 3, 4, 5, 44, 99]"
            ]
          },
          "metadata": {},
          "execution_count": 122
        }
      ]
    },
    {
      "cell_type": "code",
      "source": [
        "#sorted is sorted into a list"
      ],
      "metadata": {
        "id": "nP5727tOC9B6"
      },
      "execution_count": 123,
      "outputs": []
    },
    {
      "cell_type": "code",
      "source": [
        "my_list = [1, 2, 3, 4, 5, 6, 7, 8, 9, 10, 11, 12, 13, 14, 15, 16, 17, 18, 19, 20]"
      ],
      "metadata": {
        "id": "nBj74rxmDDIE"
      },
      "execution_count": 124,
      "outputs": []
    },
    {
      "cell_type": "code",
      "source": [
        "for i in my_list:\n",
        "  print(i)"
      ],
      "metadata": {
        "colab": {
          "base_uri": "https://localhost:8080/"
        },
        "id": "6gdlpTYODZCa",
        "outputId": "e2d4c40a-e062-4bc1-962f-08edc22de011"
      },
      "execution_count": 128,
      "outputs": [
        {
          "output_type": "stream",
          "name": "stdout",
          "text": [
            "1\n",
            "2\n",
            "3\n",
            "4\n",
            "5\n",
            "6\n",
            "7\n",
            "8\n",
            "9\n",
            "10\n",
            "11\n",
            "12\n",
            "13\n",
            "14\n",
            "15\n",
            "16\n",
            "17\n",
            "18\n",
            "19\n",
            "20\n"
          ]
        }
      ]
    },
    {
      "cell_type": "code",
      "source": [
        "# i is an irratetor, it can be anything\n",
        "# for is the initializer, in tells you where it is going"
      ],
      "metadata": {
        "id": "f6dz-faWDd0-"
      },
      "execution_count": 127,
      "outputs": []
    },
    {
      "cell_type": "code",
      "source": [
        "your_List = [99, 98, 85, 65, 55, 55, 80, 79]"
      ],
      "metadata": {
        "id": "fiGjUdYID_a1"
      },
      "execution_count": 129,
      "outputs": []
    },
    {
      "cell_type": "code",
      "source": [
        "for x in your_List:\n",
        "  print(x**3+(2*x - 1))"
      ],
      "metadata": {
        "colab": {
          "base_uri": "https://localhost:8080/"
        },
        "id": "gayHLNelEXa9",
        "outputId": "3f44bf95-6329-4639-af13-a86f7229039d"
      },
      "execution_count": 137,
      "outputs": [
        {
          "output_type": "stream",
          "name": "stdout",
          "text": [
            "970496\n",
            "941387\n",
            "614294\n",
            "274754\n",
            "166484\n",
            "166484\n",
            "512159\n",
            "493196\n"
          ]
        }
      ]
    },
    {
      "cell_type": "code",
      "source": [
        "# range is not inclusive\n",
        "for i in range(10):\n",
        "  print(i)"
      ],
      "metadata": {
        "colab": {
          "base_uri": "https://localhost:8080/"
        },
        "id": "cos6UFzkEfVq",
        "outputId": "fc5324ff-6d3d-45ef-b196-e220f2fd877f"
      },
      "execution_count": 139,
      "outputs": [
        {
          "output_type": "stream",
          "name": "stdout",
          "text": [
            "0\n",
            "1\n",
            "2\n",
            "3\n",
            "4\n",
            "5\n",
            "6\n",
            "7\n",
            "8\n",
            "9\n"
          ]
        }
      ]
    },
    {
      "cell_type": "code",
      "source": [
        "# range does not take floats\n",
        "# for i in range(20.0):\n",
        "#   print(i)"
      ],
      "metadata": {
        "id": "cke7YmhTFeph"
      },
      "execution_count": 152,
      "outputs": []
    },
    {
      "cell_type": "code",
      "source": [
        "for somethingelse in my_list:\n",
        "  if somethingelse % 2 == 0:\n",
        "    print(somethingelse)"
      ],
      "metadata": {
        "colab": {
          "base_uri": "https://localhost:8080/"
        },
        "id": "gz2wy5duFujM",
        "outputId": "038dde80-5fc6-41e3-b71b-e207367b5c11"
      },
      "execution_count": 153,
      "outputs": [
        {
          "output_type": "stream",
          "name": "stdout",
          "text": [
            "2\n",
            "4\n",
            "6\n",
            "8\n",
            "10\n",
            "12\n",
            "14\n",
            "16\n",
            "18\n",
            "20\n"
          ]
        }
      ]
    },
    {
      "cell_type": "code",
      "source": [
        "for somethingelse in my_list:\n",
        "  if somethingelse % 2 != 0:\n",
        "    print(somethingelse)"
      ],
      "metadata": {
        "colab": {
          "base_uri": "https://localhost:8080/"
        },
        "id": "gvikb1HqHo3V",
        "outputId": "b15dbfd6-0ddf-487f-d876-e538cc489ed1"
      },
      "execution_count": 154,
      "outputs": [
        {
          "output_type": "stream",
          "name": "stdout",
          "text": [
            "1\n",
            "3\n",
            "5\n",
            "7\n",
            "9\n",
            "11\n",
            "13\n",
            "15\n",
            "17\n",
            "19\n"
          ]
        }
      ]
    },
    {
      "cell_type": "code",
      "source": [
        "# question 1: print out the items in the list plus 3\n",
        "for x in my_list:\n",
        "  print( x + 3)"
      ],
      "metadata": {
        "colab": {
          "base_uri": "https://localhost:8080/"
        },
        "id": "yXotpKBoH1K1",
        "outputId": "40dd31d0-454b-43fd-ade7-f3bcf62547ff"
      },
      "execution_count": 156,
      "outputs": [
        {
          "output_type": "stream",
          "name": "stdout",
          "text": [
            "4\n",
            "5\n",
            "6\n",
            "7\n",
            "8\n",
            "9\n",
            "10\n",
            "11\n",
            "12\n",
            "13\n",
            "14\n",
            "15\n",
            "16\n",
            "17\n",
            "18\n",
            "19\n",
            "20\n",
            "21\n",
            "22\n",
            "23\n"
          ]
        }
      ]
    },
    {
      "cell_type": "code",
      "source": [
        "# question 2: print out the items of the list times 17\n",
        "for x in your_List:\n",
        "  print(x*17)"
      ],
      "metadata": {
        "colab": {
          "base_uri": "https://localhost:8080/"
        },
        "id": "rIpkXqLvJJr-",
        "outputId": "7df5bdb0-8b12-4314-9164-a0d7e1b89c56"
      },
      "execution_count": 157,
      "outputs": [
        {
          "output_type": "stream",
          "name": "stdout",
          "text": [
            "1683\n",
            "1666\n",
            "1445\n",
            "1105\n",
            "935\n",
            "935\n",
            "1360\n",
            "1343\n"
          ]
        }
      ]
    },
    {
      "cell_type": "code",
      "source": [
        "# question 3: print out the items of the list to the power of 5\n",
        "for x in your_List:\n",
        "  print(x**5)"
      ],
      "metadata": {
        "colab": {
          "base_uri": "https://localhost:8080/"
        },
        "id": "p-Acks11JdZp",
        "outputId": "929f4617-0056-4bd6-8b47-0e57b8575a45"
      },
      "execution_count": 158,
      "outputs": [
        {
          "output_type": "stream",
          "name": "stdout",
          "text": [
            "9509900499\n",
            "9039207968\n",
            "4437053125\n",
            "1160290625\n",
            "503284375\n",
            "503284375\n",
            "3276800000\n",
            "3077056399\n"
          ]
        }
      ]
    },
    {
      "cell_type": "code",
      "source": [
        "myString = 'Hello World'"
      ],
      "metadata": {
        "id": "1cr8eDe-JmOf"
      },
      "execution_count": 159,
      "outputs": []
    },
    {
      "cell_type": "code",
      "source": [
        "for letter in myString:\n",
        "  print(letter)"
      ],
      "metadata": {
        "colab": {
          "base_uri": "https://localhost:8080/"
        },
        "id": "FdiHXrzIJ4ol",
        "outputId": "800d5bcd-6f2e-4025-8dd3-fe606c9b70f7"
      },
      "execution_count": 160,
      "outputs": [
        {
          "output_type": "stream",
          "name": "stdout",
          "text": [
            "H\n",
            "e\n",
            "l\n",
            "l\n",
            "o\n",
            " \n",
            "W\n",
            "o\n",
            "r\n",
            "l\n",
            "d\n"
          ]
        }
      ]
    },
    {
      "cell_type": "code",
      "source": [
        "for i in range(0, len(my_list)):\n",
        "  print('Iteration #:', i+1)\n",
        "  for j in range(i+1, len(my_list)):\n",
        "    print('The outside loop value is: ',\n",
        "          my_list[i], 'The inner loop value is: ', my_list[j])"
      ],
      "metadata": {
        "colab": {
          "base_uri": "https://localhost:8080/"
        },
        "id": "_ipCZDbPJ-M_",
        "outputId": "900f3501-0d5d-4053-fbf9-bcbf31bc2f5b"
      },
      "execution_count": 161,
      "outputs": [
        {
          "output_type": "stream",
          "name": "stdout",
          "text": [
            "Iteration #: 1\n",
            "The outside loop value is:  1 The inner loop value is:  2\n",
            "The outside loop value is:  1 The inner loop value is:  3\n",
            "The outside loop value is:  1 The inner loop value is:  4\n",
            "The outside loop value is:  1 The inner loop value is:  5\n",
            "The outside loop value is:  1 The inner loop value is:  6\n",
            "The outside loop value is:  1 The inner loop value is:  7\n",
            "The outside loop value is:  1 The inner loop value is:  8\n",
            "The outside loop value is:  1 The inner loop value is:  9\n",
            "The outside loop value is:  1 The inner loop value is:  10\n",
            "The outside loop value is:  1 The inner loop value is:  11\n",
            "The outside loop value is:  1 The inner loop value is:  12\n",
            "The outside loop value is:  1 The inner loop value is:  13\n",
            "The outside loop value is:  1 The inner loop value is:  14\n",
            "The outside loop value is:  1 The inner loop value is:  15\n",
            "The outside loop value is:  1 The inner loop value is:  16\n",
            "The outside loop value is:  1 The inner loop value is:  17\n",
            "The outside loop value is:  1 The inner loop value is:  18\n",
            "The outside loop value is:  1 The inner loop value is:  19\n",
            "The outside loop value is:  1 The inner loop value is:  20\n",
            "Iteration #: 2\n",
            "The outside loop value is:  2 The inner loop value is:  3\n",
            "The outside loop value is:  2 The inner loop value is:  4\n",
            "The outside loop value is:  2 The inner loop value is:  5\n",
            "The outside loop value is:  2 The inner loop value is:  6\n",
            "The outside loop value is:  2 The inner loop value is:  7\n",
            "The outside loop value is:  2 The inner loop value is:  8\n",
            "The outside loop value is:  2 The inner loop value is:  9\n",
            "The outside loop value is:  2 The inner loop value is:  10\n",
            "The outside loop value is:  2 The inner loop value is:  11\n",
            "The outside loop value is:  2 The inner loop value is:  12\n",
            "The outside loop value is:  2 The inner loop value is:  13\n",
            "The outside loop value is:  2 The inner loop value is:  14\n",
            "The outside loop value is:  2 The inner loop value is:  15\n",
            "The outside loop value is:  2 The inner loop value is:  16\n",
            "The outside loop value is:  2 The inner loop value is:  17\n",
            "The outside loop value is:  2 The inner loop value is:  18\n",
            "The outside loop value is:  2 The inner loop value is:  19\n",
            "The outside loop value is:  2 The inner loop value is:  20\n",
            "Iteration #: 3\n",
            "The outside loop value is:  3 The inner loop value is:  4\n",
            "The outside loop value is:  3 The inner loop value is:  5\n",
            "The outside loop value is:  3 The inner loop value is:  6\n",
            "The outside loop value is:  3 The inner loop value is:  7\n",
            "The outside loop value is:  3 The inner loop value is:  8\n",
            "The outside loop value is:  3 The inner loop value is:  9\n",
            "The outside loop value is:  3 The inner loop value is:  10\n",
            "The outside loop value is:  3 The inner loop value is:  11\n",
            "The outside loop value is:  3 The inner loop value is:  12\n",
            "The outside loop value is:  3 The inner loop value is:  13\n",
            "The outside loop value is:  3 The inner loop value is:  14\n",
            "The outside loop value is:  3 The inner loop value is:  15\n",
            "The outside loop value is:  3 The inner loop value is:  16\n",
            "The outside loop value is:  3 The inner loop value is:  17\n",
            "The outside loop value is:  3 The inner loop value is:  18\n",
            "The outside loop value is:  3 The inner loop value is:  19\n",
            "The outside loop value is:  3 The inner loop value is:  20\n",
            "Iteration #: 4\n",
            "The outside loop value is:  4 The inner loop value is:  5\n",
            "The outside loop value is:  4 The inner loop value is:  6\n",
            "The outside loop value is:  4 The inner loop value is:  7\n",
            "The outside loop value is:  4 The inner loop value is:  8\n",
            "The outside loop value is:  4 The inner loop value is:  9\n",
            "The outside loop value is:  4 The inner loop value is:  10\n",
            "The outside loop value is:  4 The inner loop value is:  11\n",
            "The outside loop value is:  4 The inner loop value is:  12\n",
            "The outside loop value is:  4 The inner loop value is:  13\n",
            "The outside loop value is:  4 The inner loop value is:  14\n",
            "The outside loop value is:  4 The inner loop value is:  15\n",
            "The outside loop value is:  4 The inner loop value is:  16\n",
            "The outside loop value is:  4 The inner loop value is:  17\n",
            "The outside loop value is:  4 The inner loop value is:  18\n",
            "The outside loop value is:  4 The inner loop value is:  19\n",
            "The outside loop value is:  4 The inner loop value is:  20\n",
            "Iteration #: 5\n",
            "The outside loop value is:  5 The inner loop value is:  6\n",
            "The outside loop value is:  5 The inner loop value is:  7\n",
            "The outside loop value is:  5 The inner loop value is:  8\n",
            "The outside loop value is:  5 The inner loop value is:  9\n",
            "The outside loop value is:  5 The inner loop value is:  10\n",
            "The outside loop value is:  5 The inner loop value is:  11\n",
            "The outside loop value is:  5 The inner loop value is:  12\n",
            "The outside loop value is:  5 The inner loop value is:  13\n",
            "The outside loop value is:  5 The inner loop value is:  14\n",
            "The outside loop value is:  5 The inner loop value is:  15\n",
            "The outside loop value is:  5 The inner loop value is:  16\n",
            "The outside loop value is:  5 The inner loop value is:  17\n",
            "The outside loop value is:  5 The inner loop value is:  18\n",
            "The outside loop value is:  5 The inner loop value is:  19\n",
            "The outside loop value is:  5 The inner loop value is:  20\n",
            "Iteration #: 6\n",
            "The outside loop value is:  6 The inner loop value is:  7\n",
            "The outside loop value is:  6 The inner loop value is:  8\n",
            "The outside loop value is:  6 The inner loop value is:  9\n",
            "The outside loop value is:  6 The inner loop value is:  10\n",
            "The outside loop value is:  6 The inner loop value is:  11\n",
            "The outside loop value is:  6 The inner loop value is:  12\n",
            "The outside loop value is:  6 The inner loop value is:  13\n",
            "The outside loop value is:  6 The inner loop value is:  14\n",
            "The outside loop value is:  6 The inner loop value is:  15\n",
            "The outside loop value is:  6 The inner loop value is:  16\n",
            "The outside loop value is:  6 The inner loop value is:  17\n",
            "The outside loop value is:  6 The inner loop value is:  18\n",
            "The outside loop value is:  6 The inner loop value is:  19\n",
            "The outside loop value is:  6 The inner loop value is:  20\n",
            "Iteration #: 7\n",
            "The outside loop value is:  7 The inner loop value is:  8\n",
            "The outside loop value is:  7 The inner loop value is:  9\n",
            "The outside loop value is:  7 The inner loop value is:  10\n",
            "The outside loop value is:  7 The inner loop value is:  11\n",
            "The outside loop value is:  7 The inner loop value is:  12\n",
            "The outside loop value is:  7 The inner loop value is:  13\n",
            "The outside loop value is:  7 The inner loop value is:  14\n",
            "The outside loop value is:  7 The inner loop value is:  15\n",
            "The outside loop value is:  7 The inner loop value is:  16\n",
            "The outside loop value is:  7 The inner loop value is:  17\n",
            "The outside loop value is:  7 The inner loop value is:  18\n",
            "The outside loop value is:  7 The inner loop value is:  19\n",
            "The outside loop value is:  7 The inner loop value is:  20\n",
            "Iteration #: 8\n",
            "The outside loop value is:  8 The inner loop value is:  9\n",
            "The outside loop value is:  8 The inner loop value is:  10\n",
            "The outside loop value is:  8 The inner loop value is:  11\n",
            "The outside loop value is:  8 The inner loop value is:  12\n",
            "The outside loop value is:  8 The inner loop value is:  13\n",
            "The outside loop value is:  8 The inner loop value is:  14\n",
            "The outside loop value is:  8 The inner loop value is:  15\n",
            "The outside loop value is:  8 The inner loop value is:  16\n",
            "The outside loop value is:  8 The inner loop value is:  17\n",
            "The outside loop value is:  8 The inner loop value is:  18\n",
            "The outside loop value is:  8 The inner loop value is:  19\n",
            "The outside loop value is:  8 The inner loop value is:  20\n",
            "Iteration #: 9\n",
            "The outside loop value is:  9 The inner loop value is:  10\n",
            "The outside loop value is:  9 The inner loop value is:  11\n",
            "The outside loop value is:  9 The inner loop value is:  12\n",
            "The outside loop value is:  9 The inner loop value is:  13\n",
            "The outside loop value is:  9 The inner loop value is:  14\n",
            "The outside loop value is:  9 The inner loop value is:  15\n",
            "The outside loop value is:  9 The inner loop value is:  16\n",
            "The outside loop value is:  9 The inner loop value is:  17\n",
            "The outside loop value is:  9 The inner loop value is:  18\n",
            "The outside loop value is:  9 The inner loop value is:  19\n",
            "The outside loop value is:  9 The inner loop value is:  20\n",
            "Iteration #: 10\n",
            "The outside loop value is:  10 The inner loop value is:  11\n",
            "The outside loop value is:  10 The inner loop value is:  12\n",
            "The outside loop value is:  10 The inner loop value is:  13\n",
            "The outside loop value is:  10 The inner loop value is:  14\n",
            "The outside loop value is:  10 The inner loop value is:  15\n",
            "The outside loop value is:  10 The inner loop value is:  16\n",
            "The outside loop value is:  10 The inner loop value is:  17\n",
            "The outside loop value is:  10 The inner loop value is:  18\n",
            "The outside loop value is:  10 The inner loop value is:  19\n",
            "The outside loop value is:  10 The inner loop value is:  20\n",
            "Iteration #: 11\n",
            "The outside loop value is:  11 The inner loop value is:  12\n",
            "The outside loop value is:  11 The inner loop value is:  13\n",
            "The outside loop value is:  11 The inner loop value is:  14\n",
            "The outside loop value is:  11 The inner loop value is:  15\n",
            "The outside loop value is:  11 The inner loop value is:  16\n",
            "The outside loop value is:  11 The inner loop value is:  17\n",
            "The outside loop value is:  11 The inner loop value is:  18\n",
            "The outside loop value is:  11 The inner loop value is:  19\n",
            "The outside loop value is:  11 The inner loop value is:  20\n",
            "Iteration #: 12\n",
            "The outside loop value is:  12 The inner loop value is:  13\n",
            "The outside loop value is:  12 The inner loop value is:  14\n",
            "The outside loop value is:  12 The inner loop value is:  15\n",
            "The outside loop value is:  12 The inner loop value is:  16\n",
            "The outside loop value is:  12 The inner loop value is:  17\n",
            "The outside loop value is:  12 The inner loop value is:  18\n",
            "The outside loop value is:  12 The inner loop value is:  19\n",
            "The outside loop value is:  12 The inner loop value is:  20\n",
            "Iteration #: 13\n",
            "The outside loop value is:  13 The inner loop value is:  14\n",
            "The outside loop value is:  13 The inner loop value is:  15\n",
            "The outside loop value is:  13 The inner loop value is:  16\n",
            "The outside loop value is:  13 The inner loop value is:  17\n",
            "The outside loop value is:  13 The inner loop value is:  18\n",
            "The outside loop value is:  13 The inner loop value is:  19\n",
            "The outside loop value is:  13 The inner loop value is:  20\n",
            "Iteration #: 14\n",
            "The outside loop value is:  14 The inner loop value is:  15\n",
            "The outside loop value is:  14 The inner loop value is:  16\n",
            "The outside loop value is:  14 The inner loop value is:  17\n",
            "The outside loop value is:  14 The inner loop value is:  18\n",
            "The outside loop value is:  14 The inner loop value is:  19\n",
            "The outside loop value is:  14 The inner loop value is:  20\n",
            "Iteration #: 15\n",
            "The outside loop value is:  15 The inner loop value is:  16\n",
            "The outside loop value is:  15 The inner loop value is:  17\n",
            "The outside loop value is:  15 The inner loop value is:  18\n",
            "The outside loop value is:  15 The inner loop value is:  19\n",
            "The outside loop value is:  15 The inner loop value is:  20\n",
            "Iteration #: 16\n",
            "The outside loop value is:  16 The inner loop value is:  17\n",
            "The outside loop value is:  16 The inner loop value is:  18\n",
            "The outside loop value is:  16 The inner loop value is:  19\n",
            "The outside loop value is:  16 The inner loop value is:  20\n",
            "Iteration #: 17\n",
            "The outside loop value is:  17 The inner loop value is:  18\n",
            "The outside loop value is:  17 The inner loop value is:  19\n",
            "The outside loop value is:  17 The inner loop value is:  20\n",
            "Iteration #: 18\n",
            "The outside loop value is:  18 The inner loop value is:  19\n",
            "The outside loop value is:  18 The inner loop value is:  20\n",
            "Iteration #: 19\n",
            "The outside loop value is:  19 The inner loop value is:  20\n",
            "Iteration #: 20\n"
          ]
        }
      ]
    },
    {
      "cell_type": "code",
      "source": [
        "my_list"
      ],
      "metadata": {
        "colab": {
          "base_uri": "https://localhost:8080/"
        },
        "id": "fO-VSQ4oLO23",
        "outputId": "409adcb8-2027-4287-ad13-5ce8b05052b1"
      },
      "execution_count": 162,
      "outputs": [
        {
          "output_type": "execute_result",
          "data": {
            "text/plain": [
              "[1, 2, 3, 4, 5, 6, 7, 8, 9, 10, 11, 12, 13, 14, 15, 16, 17, 18, 19, 20]"
            ]
          },
          "metadata": {},
          "execution_count": 162
        }
      ]
    },
    {
      "cell_type": "code",
      "source": [],
      "metadata": {
        "id": "SuggBle-LTWk"
      },
      "execution_count": null,
      "outputs": []
    }
  ]
}