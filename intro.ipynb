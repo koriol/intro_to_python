{
  "nbformat": 4,
  "nbformat_minor": 0,
  "metadata": {
    "colab": {
      "provenance": [],
      "authorship_tag": "ABX9TyPhPrdfkJQhfAj2R79mMtYX",
      "include_colab_link": true
    },
    "kernelspec": {
      "name": "python3",
      "display_name": "Python 3"
    },
    "language_info": {
      "name": "python"
    }
  },
  "cells": [
    {
      "cell_type": "markdown",
      "metadata": {
        "id": "view-in-github",
        "colab_type": "text"
      },
      "source": [
        "<a href=\"https://colab.research.google.com/github/koriol/intro_to_python/blob/main/intro.ipynb\" target=\"_parent\"><img src=\"https://colab.research.google.com/assets/colab-badge.svg\" alt=\"Open In Colab\"/></a>"
      ]
    },
    {
      "cell_type": "code",
      "execution_count": 6,
      "metadata": {
        "colab": {
          "base_uri": "https://localhost:8080/"
        },
        "id": "NNR2C3E4ym8l",
        "outputId": "88e6910a-48b2-42f8-bc16-e50d2c4dba2b"
      },
      "outputs": [
        {
          "output_type": "stream",
          "name": "stdout",
          "text": [
            "Hello World!\n"
          ]
        }
      ],
      "source": [
        "print(\"Hello World!\")"
      ]
    },
    {
      "cell_type": "markdown",
      "source": [
        "Type ctrl + M M to shift between text or code, or you can hover your mouse over the cell to display code or text"
      ],
      "metadata": {
        "id": "PGNN-otHzfze"
      }
    },
    {
      "cell_type": "code",
      "source": [
        "print1"
      ],
      "metadata": {
        "colab": {
          "base_uri": "https://localhost:8080/",
          "height": 166
        },
        "id": "Lof-yDflz8ha",
        "outputId": "6aee1c36-9dfe-4a28-8042-1ac39ed0f66b"
      },
      "execution_count": 7,
      "outputs": [
        {
          "output_type": "error",
          "ename": "NameError",
          "evalue": "ignored",
          "traceback": [
            "\u001b[0;31m---------------------------------------------------------------------------\u001b[0m",
            "\u001b[0;31mNameError\u001b[0m                                 Traceback (most recent call last)",
            "\u001b[0;32m<ipython-input-7-e7b0ad20f0a5>\u001b[0m in \u001b[0;36m<cell line: 1>\u001b[0;34m()\u001b[0m\n\u001b[0;32m----> 1\u001b[0;31m \u001b[0mprint1\u001b[0m\u001b[0;34m\u001b[0m\u001b[0;34m\u001b[0m\u001b[0m\n\u001b[0m",
            "\u001b[0;31mNameError\u001b[0m: name 'print1' is not defined"
          ]
        }
      ]
    },
    {
      "cell_type": "code",
      "source": [
        "print(1)"
      ],
      "metadata": {
        "colab": {
          "base_uri": "https://localhost:8080/"
        },
        "id": "JXHUr77wz_dn",
        "outputId": "baafbf9a-3811-4a58-c6a3-902ad56b313d"
      },
      "execution_count": 8,
      "outputs": [
        {
          "output_type": "stream",
          "name": "stdout",
          "text": [
            "1\n"
          ]
        }
      ]
    },
    {
      "cell_type": "code",
      "source": [
        "12\n"
      ],
      "metadata": {
        "colab": {
          "base_uri": "https://localhost:8080/"
        },
        "id": "uD0NAQNd0BgP",
        "outputId": "da017688-22ae-4ee0-bb68-4a3aa40cfb7d"
      },
      "execution_count": 9,
      "outputs": [
        {
          "output_type": "execute_result",
          "data": {
            "text/plain": [
              "12"
            ]
          },
          "metadata": {},
          "execution_count": 9
        }
      ]
    },
    {
      "cell_type": "code",
      "source": [
        "variable = 'something'"
      ],
      "metadata": {
        "id": "8D1j34St0GNy"
      },
      "execution_count": 12,
      "outputs": []
    },
    {
      "cell_type": "code",
      "source": [
        "variable\n"
      ],
      "metadata": {
        "colab": {
          "base_uri": "https://localhost:8080/",
          "height": 35
        },
        "id": "lPd6t_f30cSo",
        "outputId": "c4e90ae5-2362-4320-8881-2b98ba906f6e"
      },
      "execution_count": 13,
      "outputs": [
        {
          "output_type": "execute_result",
          "data": {
            "text/plain": [
              "'something'"
            ],
            "application/vnd.google.colaboratory.intrinsic+json": {
              "type": "string"
            }
          },
          "metadata": {},
          "execution_count": 13
        }
      ]
    },
    {
      "cell_type": "code",
      "source": [
        "import this"
      ],
      "metadata": {
        "id": "6kdNoRw_0hS8"
      },
      "execution_count": 15,
      "outputs": []
    },
    {
      "cell_type": "code",
      "source": [
        "#Whatever I want"
      ],
      "metadata": {
        "id": "XQZHkmO_0ton"
      },
      "execution_count": 16,
      "outputs": []
    },
    {
      "cell_type": "code",
      "source": [
        "\"\"\"Something. This is also a comment that can be multilined\n",
        "keep typing on different lines with triple quote magic\"\"\""
      ],
      "metadata": {
        "colab": {
          "base_uri": "https://localhost:8080/",
          "height": 35
        },
        "id": "stDtoJaI1xlK",
        "outputId": "384b1540-4e21-4553-a027-dc7fd4325014"
      },
      "execution_count": 18,
      "outputs": [
        {
          "output_type": "execute_result",
          "data": {
            "text/plain": [
              "'Something. This is also a comment that can be multilined\\nkeep typing on different lines with triple quote magic'"
            ],
            "application/vnd.google.colaboratory.intrinsic+json": {
              "type": "string"
            }
          },
          "metadata": {},
          "execution_count": 18
        }
      ]
    },
    {
      "cell_type": "code",
      "source": [
        "# This is float"
      ],
      "metadata": {
        "id": "G5fmpDIp2Bxb"
      },
      "execution_count": 19,
      "outputs": []
    },
    {
      "cell_type": "code",
      "source": [
        "y = 1.4"
      ],
      "metadata": {
        "id": "Y8dRmH8U2Ukt"
      },
      "execution_count": 20,
      "outputs": []
    },
    {
      "cell_type": "code",
      "source": [
        "print(y)"
      ],
      "metadata": {
        "colab": {
          "base_uri": "https://localhost:8080/"
        },
        "id": "bPBxPG122WOp",
        "outputId": "c66cbf4e-8959-4ffd-c5f6-8b2e87564c12"
      },
      "execution_count": 21,
      "outputs": [
        {
          "output_type": "stream",
          "name": "stdout",
          "text": [
            "1.4\n"
          ]
        }
      ]
    },
    {
      "cell_type": "code",
      "source": [
        "# This is a complex number"
      ],
      "metadata": {
        "id": "dhrHEDXM2YOn"
      },
      "execution_count": 22,
      "outputs": []
    },
    {
      "cell_type": "code",
      "source": [
        "a = 3 + 5j"
      ],
      "metadata": {
        "id": "dRdRODjV2jWC"
      },
      "execution_count": 23,
      "outputs": []
    },
    {
      "cell_type": "code",
      "source": [
        "print(a)"
      ],
      "metadata": {
        "colab": {
          "base_uri": "https://localhost:8080/"
        },
        "id": "M3SbDk1-2lcQ",
        "outputId": "d9541863-eda3-407c-eb2e-f891daed8fd2"
      },
      "execution_count": 26,
      "outputs": [
        {
          "output_type": "stream",
          "name": "stdout",
          "text": [
            "(3+5j)\n"
          ]
        }
      ]
    },
    {
      "cell_type": "code",
      "source": [
        "x = 1"
      ],
      "metadata": {
        "id": "1433hedD3xo_"
      },
      "execution_count": 27,
      "outputs": []
    },
    {
      "cell_type": "markdown",
      "source": [
        "#Type Conversion\n",
        "\n",
        "*You can convert from one type to another with the `int()`, `float()`, and `complex()` methods*"
      ],
      "metadata": {
        "id": "46lR5OXi2mvY"
      }
    },
    {
      "cell_type": "code",
      "source": [
        "# Using our previous definitions"
      ],
      "metadata": {
        "id": "3DdUd1rl3ZpJ"
      },
      "execution_count": 25,
      "outputs": []
    },
    {
      "cell_type": "code",
      "source": [
        "print(x)\n",
        "print(y)\n",
        "print(a)"
      ],
      "metadata": {
        "colab": {
          "base_uri": "https://localhost:8080/"
        },
        "id": "HQyIWWQ63iDB",
        "outputId": "bad0ec49-e3d7-4ec0-ee14-3bc2535cf2ca"
      },
      "execution_count": 29,
      "outputs": [
        {
          "output_type": "stream",
          "name": "stdout",
          "text": [
            "1\n",
            "1.4\n",
            "(3+5j)\n"
          ]
        }
      ]
    },
    {
      "cell_type": "code",
      "source": [
        "# Now converting an int to float\n",
        "x1 = float(x)\n",
        "print(f'Our int {x} is now a float --> {x1} yay!')"
      ],
      "metadata": {
        "colab": {
          "base_uri": "https://localhost:8080/"
        },
        "id": "b0yQD_Q433Xj",
        "outputId": "60c49987-e3d0-4c81-fe4d-484c05666f36"
      },
      "execution_count": 32,
      "outputs": [
        {
          "output_type": "stream",
          "name": "stdout",
          "text": [
            "Our int 1 is now a float --> 1.0 yay!\n"
          ]
        }
      ]
    },
    {
      "cell_type": "code",
      "source": [
        "# that f is for formatting. The brackets are place holders\n"
      ],
      "metadata": {
        "id": "uw38dV2Y4X80"
      },
      "execution_count": 31,
      "outputs": []
    },
    {
      "cell_type": "code",
      "source": [
        "# Now converting a float to int\n",
        "y1 = int(y)\n",
        "print(f'Our float {y} is now an int --> {y1} yay!')"
      ],
      "metadata": {
        "colab": {
          "base_uri": "https://localhost:8080/"
        },
        "id": "MRL1igsM5EHF",
        "outputId": "35535c62-cf38-41f9-b594-deebe1223f7a"
      },
      "execution_count": 34,
      "outputs": [
        {
          "output_type": "stream",
          "name": "stdout",
          "text": [
            "Our float 1.4 is now an int --> 1 yay!\n"
          ]
        }
      ]
    },
    {
      "cell_type": "code",
      "source": [
        "# Now, let's convert to complex number\n",
        "a1 = complex(x)\n",
        "print(f'Our int {x} is now a complex number --> {a1} yay!')"
      ],
      "metadata": {
        "colab": {
          "base_uri": "https://localhost:8080/"
        },
        "id": "1B2Q8HkC5v2O",
        "outputId": "69d739d0-bc1b-484c-8639-1766e65c9ad6"
      },
      "execution_count": 35,
      "outputs": [
        {
          "output_type": "stream",
          "name": "stdout",
          "text": [
            "Our int 1 is now a complex number --> (1+0j) yay!\n"
          ]
        }
      ]
    },
    {
      "cell_type": "code",
      "source": [
        "# We can check the types of our number by using the 'type()' method!\n",
        "print(type(x1))\n",
        "print(type(y1))\n",
        "print(type(a1))"
      ],
      "metadata": {
        "colab": {
          "base_uri": "https://localhost:8080/"
        },
        "id": "TOKRRoBj6FX3",
        "outputId": "31acb8f4-f684-454c-dfc8-26ad420c7c6d"
      },
      "execution_count": 40,
      "outputs": [
        {
          "output_type": "stream",
          "name": "stdout",
          "text": [
            "<class 'float'>\n",
            "<class 'int'>\n",
            "<class 'complex'>\n"
          ]
        }
      ]
    },
    {
      "cell_type": "markdown",
      "source": [
        "#Numerical Operations\n",
        "\n",
        "*In Python, all numeric types (except complex) support the following operations. These are sorted by ascending priority.*"
      ],
      "metadata": {
        "id": "XxsvshDz8XgL"
      }
    },
    {
      "cell_type": "code",
      "source": [
        "# Sum\n",
        "print(x)\n",
        "print(y)\n",
        "\n",
        "print( x + y )\n",
        "print(23 + 4)"
      ],
      "metadata": {
        "colab": {
          "base_uri": "https://localhost:8080/"
        },
        "id": "Y0e5BKog8aoV",
        "outputId": "1c360704-c425-4ce0-b8fa-4ecf24363244"
      },
      "execution_count": 41,
      "outputs": [
        {
          "output_type": "stream",
          "name": "stdout",
          "text": [
            "1\n",
            "1.4\n",
            "2.4\n",
            "27\n"
          ]
        }
      ]
    },
    {
      "cell_type": "code",
      "source": [
        "# Subtraction\n",
        "print(y - x)\n",
        "print(43 - 5)"
      ],
      "metadata": {
        "colab": {
          "base_uri": "https://localhost:8080/"
        },
        "id": "roYjAach8kO9",
        "outputId": "8e8c8cfc-d5c1-4880-9124-2589c441e11f"
      },
      "execution_count": 42,
      "outputs": [
        {
          "output_type": "stream",
          "name": "stdout",
          "text": [
            "0.3999999999999999\n",
            "38\n"
          ]
        }
      ]
    },
    {
      "cell_type": "code",
      "source": [
        "# Multiplication\n",
        "print( x * y)\n",
        "print( x * 2)\n",
        "print( 3 * 5)"
      ],
      "metadata": {
        "colab": {
          "base_uri": "https://localhost:8080/"
        },
        "id": "fCUPzYXD8zVV",
        "outputId": "accf6eb7-ce68-4eb9-ffc9-4734aa9af225"
      },
      "execution_count": 43,
      "outputs": [
        {
          "output_type": "stream",
          "name": "stdout",
          "text": [
            "1.4\n",
            "2\n",
            "15\n"
          ]
        }
      ]
    },
    {
      "cell_type": "code",
      "source": [
        "# Division\n",
        "print(y/x)\n",
        "print(321/17)"
      ],
      "metadata": {
        "colab": {
          "base_uri": "https://localhost:8080/"
        },
        "id": "uI4NqmL49CG_",
        "outputId": "18e45a8f-9bc1-4820-af69-d1b3d78c61d4"
      },
      "execution_count": 44,
      "outputs": [
        {
          "output_type": "stream",
          "name": "stdout",
          "text": [
            "1.4\n",
            "18.88235294117647\n"
          ]
        }
      ]
    },
    {
      "cell_type": "code",
      "source": [
        "# Floored division\n",
        "# Floor division is a normal division operation except that it returns\n",
        "# the largest possible integer\n",
        "\n",
        "print(y//x)\n",
        "print(321//17)\n"
      ],
      "metadata": {
        "colab": {
          "base_uri": "https://localhost:8080/"
        },
        "id": "Ze9EbkQ39RE6",
        "outputId": "1253296f-c63c-4bb4-b88d-a73978e137d4"
      },
      "execution_count": 46,
      "outputs": [
        {
          "output_type": "stream",
          "name": "stdout",
          "text": [
            "1\n",
            "18\n"
          ]
        }
      ]
    },
    {
      "cell_type": "code",
      "source": [
        "# modulus\n",
        "# The % symbol in Python is caled the Modulo Operator.\n",
        "# It returns the remainder of dividing the left hand operand by right hand operand.\n",
        "# It's used to get the remainder of a division problem.\n",
        "\n",
        "print(y % x)\n",
        "print(321 % 17)\n",
        "\n",
        "div = y/x\n",
        "mod = y\n",
        "\n",
        "print(f'When dividing our numbers {y} and {x} we get {div}')\n",
        "print(f\"...but when we use the modulus operator '%' we get {mod} which is the remainder of the operation\")"
      ],
      "metadata": {
        "colab": {
          "base_uri": "https://localhost:8080/"
        },
        "id": "NfEPzi_w9l8U",
        "outputId": "08a50e1e-7658-48f0-ae68-ddb5f1f0ffba"
      },
      "execution_count": 47,
      "outputs": [
        {
          "output_type": "stream",
          "name": "stdout",
          "text": [
            "0.3999999999999999\n",
            "15\n",
            "When dividing our numbers 1.4 and 1 we get 1.4\n",
            "...but when we use the modulus operator '%' we get 1.4 which is the remainder of the operation\n"
          ]
        }
      ]
    },
    {
      "cell_type": "code",
      "source": [
        "# Let's try with other numbers...\n",
        "# Let's take the number 321 and 17\n",
        "\n",
        "a = 321\n",
        "b = 17\n",
        "c = a/b\n",
        "d = a%b\n",
        "\n",
        "print(f'When we divide {a} by {b} we get {c}')\n",
        "\n",
        "print(f'But, if we want the remainder of the operation we get {d}')"
      ],
      "metadata": {
        "colab": {
          "base_uri": "https://localhost:8080/"
        },
        "id": "34sh9B4tFjaf",
        "outputId": "5b18e040-334b-44d1-ecb1-577fc9bd1514"
      },
      "execution_count": 48,
      "outputs": [
        {
          "output_type": "stream",
          "name": "stdout",
          "text": [
            "When we divide 321 by 17 we get 18.88235294117647\n",
            "But, if we want the remainder of the operation we get 15\n"
          ]
        }
      ]
    },
    {
      "cell_type": "markdown",
      "source": [
        "#Built-in Methods\n",
        "\n",
        "`min()\n",
        "max()\n",
        "abs()\n",
        "pow()`\n",
        "\n",
        "The `min()` and `max()` functions can be used to find the lowest or highest value in a set of numbers or an iterable:\n",
        "\n"
      ],
      "metadata": {
        "id": "7SXlZrweGjxK"
      }
    },
    {
      "cell_type": "code",
      "source": [
        "# min\n",
        "x = min(23, 45, 89, 28)\n",
        "print(x)"
      ],
      "metadata": {
        "colab": {
          "base_uri": "https://localhost:8080/"
        },
        "id": "sHISIA6VHpo5",
        "outputId": "aea46e96-9856-4c6b-a465-ab487b01a0bd"
      },
      "execution_count": 49,
      "outputs": [
        {
          "output_type": "stream",
          "name": "stdout",
          "text": [
            "23\n"
          ]
        }
      ]
    },
    {
      "cell_type": "code",
      "source": [
        "# max\n",
        "y = max(23, 45, 89, 28)\n",
        "print(y)"
      ],
      "metadata": {
        "colab": {
          "base_uri": "https://localhost:8080/"
        },
        "id": "ixcxp-pkIQDW",
        "outputId": "d770cb3f-c0a4-4c36-fbdd-6ffb13965c93"
      },
      "execution_count": 50,
      "outputs": [
        {
          "output_type": "stream",
          "name": "stdout",
          "text": [
            "89\n"
          ]
        }
      ]
    },
    {
      "cell_type": "markdown",
      "source": [
        "The `abs()` function returns the absolute (positive) value of the specified number:"
      ],
      "metadata": {
        "id": "X1xBpE80IVxB"
      }
    },
    {
      "cell_type": "code",
      "source": [
        "x = abs(-23.567)\n",
        "print(x)"
      ],
      "metadata": {
        "colab": {
          "base_uri": "https://localhost:8080/"
        },
        "id": "qHnF6ivdIt3v",
        "outputId": "2744ecdb-7ccf-44c5-a676-84607ea31ae5"
      },
      "execution_count": 51,
      "outputs": [
        {
          "output_type": "stream",
          "name": "stdout",
          "text": [
            "23.567\n"
          ]
        }
      ]
    },
    {
      "cell_type": "code",
      "source": [
        "pow(3, 14)"
      ],
      "metadata": {
        "colab": {
          "base_uri": "https://localhost:8080/"
        },
        "id": "4Shab8UEI1Di",
        "outputId": "8a1ac951-75eb-4c0d-c00d-ada044d8053f"
      },
      "execution_count": 54,
      "outputs": [
        {
          "output_type": "execute_result",
          "data": {
            "text/plain": [
              "4782969"
            ]
          },
          "metadata": {},
          "execution_count": 54
        }
      ]
    },
    {
      "cell_type": "code",
      "source": [
        "pow(3, -1)"
      ],
      "metadata": {
        "colab": {
          "base_uri": "https://localhost:8080/"
        },
        "id": "gj7dy3f8JCPv",
        "outputId": "a732785a-da4e-400d-fd69-79ee92fd1b14"
      },
      "execution_count": 55,
      "outputs": [
        {
          "output_type": "execute_result",
          "data": {
            "text/plain": [
              "0.3333333333333333"
            ]
          },
          "metadata": {},
          "execution_count": 55
        }
      ]
    },
    {
      "cell_type": "code",
      "source": [
        "pow(3, 0.5)"
      ],
      "metadata": {
        "colab": {
          "base_uri": "https://localhost:8080/"
        },
        "id": "gPRL-dYzJQHa",
        "outputId": "f3e4c1a1-1f7c-40f6-a74e-9183b054dee5"
      },
      "execution_count": 56,
      "outputs": [
        {
          "output_type": "execute_result",
          "data": {
            "text/plain": [
              "1.7320508075688772"
            ]
          },
          "metadata": {},
          "execution_count": 56
        }
      ]
    },
    {
      "cell_type": "code",
      "source": [
        "pow(3, x)"
      ],
      "metadata": {
        "colab": {
          "base_uri": "https://localhost:8080/"
        },
        "id": "YZL9DQsHJThF",
        "outputId": "ddc9f916-6151-4bfb-dc47-1613d81b88ed"
      },
      "execution_count": 57,
      "outputs": [
        {
          "output_type": "execute_result",
          "data": {
            "text/plain": [
              "6561"
            ]
          },
          "metadata": {},
          "execution_count": 57
        }
      ]
    },
    {
      "cell_type": "markdown",
      "source": [
        "#Booleans"
      ],
      "metadata": {
        "id": "8W2oeWzcJYEz"
      }
    },
    {
      "cell_type": "code",
      "source": [
        "True"
      ],
      "metadata": {
        "colab": {
          "base_uri": "https://localhost:8080/"
        },
        "id": "d0ZNwS_NJnJJ",
        "outputId": "559933c0-84d7-41e2-8c76-03302de92b0e"
      },
      "execution_count": 58,
      "outputs": [
        {
          "output_type": "execute_result",
          "data": {
            "text/plain": [
              "True"
            ]
          },
          "metadata": {},
          "execution_count": 58
        }
      ]
    },
    {
      "cell_type": "code",
      "source": [
        "type(True)"
      ],
      "metadata": {
        "colab": {
          "base_uri": "https://localhost:8080/"
        },
        "id": "hcTWertnJoaR",
        "outputId": "ea4f8131-4c27-41ae-8f0d-ca317e2897c3"
      },
      "execution_count": 59,
      "outputs": [
        {
          "output_type": "execute_result",
          "data": {
            "text/plain": [
              "bool"
            ]
          },
          "metadata": {},
          "execution_count": 59
        }
      ]
    },
    {
      "cell_type": "code",
      "source": [
        "False"
      ],
      "metadata": {
        "colab": {
          "base_uri": "https://localhost:8080/"
        },
        "id": "PxMG2yrNJpzp",
        "outputId": "a15bd895-88a6-481b-d08c-91ee8b9f5c02"
      },
      "execution_count": 60,
      "outputs": [
        {
          "output_type": "execute_result",
          "data": {
            "text/plain": [
              "False"
            ]
          },
          "metadata": {},
          "execution_count": 60
        }
      ]
    },
    {
      "cell_type": "code",
      "source": [
        "type(False)"
      ],
      "metadata": {
        "colab": {
          "base_uri": "https://localhost:8080/"
        },
        "id": "ysUqG_DcJro0",
        "outputId": "e3207a6b-9c23-4455-835f-896fec787c6a"
      },
      "execution_count": 61,
      "outputs": [
        {
          "output_type": "execute_result",
          "data": {
            "text/plain": [
              "bool"
            ]
          },
          "metadata": {},
          "execution_count": 61
        }
      ]
    },
    {
      "cell_type": "code",
      "source": [
        "type(10 > 9)"
      ],
      "metadata": {
        "colab": {
          "base_uri": "https://localhost:8080/"
        },
        "id": "QYl39XojJt00",
        "outputId": "150cabb3-7018-406d-e95e-2258d90c52ec"
      },
      "execution_count": 62,
      "outputs": [
        {
          "output_type": "execute_result",
          "data": {
            "text/plain": [
              "bool"
            ]
          },
          "metadata": {},
          "execution_count": 62
        }
      ]
    },
    {
      "cell_type": "code",
      "source": [
        "10 > 9"
      ],
      "metadata": {
        "colab": {
          "base_uri": "https://localhost:8080/"
        },
        "id": "f1yt8rWPJy0M",
        "outputId": "6f4103be-361c-4e32-882b-ba4677e12c0f"
      },
      "execution_count": 63,
      "outputs": [
        {
          "output_type": "execute_result",
          "data": {
            "text/plain": [
              "True"
            ]
          },
          "metadata": {},
          "execution_count": 63
        }
      ]
    },
    {
      "cell_type": "code",
      "source": [
        "# len stands for length of something, counting the characters\n",
        "\n",
        "len('hello') < len('hi')"
      ],
      "metadata": {
        "colab": {
          "base_uri": "https://localhost:8080/"
        },
        "id": "6pCZoJaSJ7o5",
        "outputId": "a19596e8-9176-4954-f1d1-d81c8095ffc1"
      },
      "execution_count": 64,
      "outputs": [
        {
          "output_type": "execute_result",
          "data": {
            "text/plain": [
              "False"
            ]
          },
          "metadata": {},
          "execution_count": 64
        }
      ]
    },
    {
      "cell_type": "code",
      "source": [
        "# without len it is looking at the type\n",
        "'hello' < 'hi'"
      ],
      "metadata": {
        "colab": {
          "base_uri": "https://localhost:8080/"
        },
        "id": "-JO0iqK8LHtu",
        "outputId": "e2ada963-15b6-4eae-c1d9-d6ccad5025ab"
      },
      "execution_count": 65,
      "outputs": [
        {
          "output_type": "execute_result",
          "data": {
            "text/plain": [
              "True"
            ]
          },
          "metadata": {},
          "execution_count": 65
        }
      ]
    },
    {
      "cell_type": "code",
      "source": [
        "sum = 100 ^ 5\n",
        "print(sum)"
      ],
      "metadata": {
        "colab": {
          "base_uri": "https://localhost:8080/"
        },
        "id": "qTpPzLfSLXN3",
        "outputId": "f7328248-4b03-41d5-a164-f899359ebbef"
      },
      "execution_count": 66,
      "outputs": [
        {
          "output_type": "stream",
          "name": "stdout",
          "text": [
            "97\n"
          ]
        }
      ]
    },
    {
      "cell_type": "code",
      "source": [
        "print(3 ^ 2)"
      ],
      "metadata": {
        "colab": {
          "base_uri": "https://localhost:8080/"
        },
        "id": "mWuVf6kvMNhX",
        "outputId": "64290491-0f05-4c6c-be25-8cd2d061a15a"
      },
      "execution_count": 67,
      "outputs": [
        {
          "output_type": "stream",
          "name": "stdout",
          "text": [
            "1\n"
          ]
        }
      ]
    },
    {
      "cell_type": "code",
      "source": [
        "print(1^2)"
      ],
      "metadata": {
        "colab": {
          "base_uri": "https://localhost:8080/"
        },
        "id": "Bx2UW9hHMXuK",
        "outputId": "f124812c-59f5-419a-af79-8e2578bf2d95"
      },
      "execution_count": 68,
      "outputs": [
        {
          "output_type": "stream",
          "name": "stdout",
          "text": [
            "3\n"
          ]
        }
      ]
    },
    {
      "cell_type": "code",
      "source": [
        "print(1^10)"
      ],
      "metadata": {
        "colab": {
          "base_uri": "https://localhost:8080/"
        },
        "id": "BGSIIzNcMcqP",
        "outputId": "b339367f-9698-4aa3-b671-f50fd1787305"
      },
      "execution_count": 69,
      "outputs": [
        {
          "output_type": "stream",
          "name": "stdout",
          "text": [
            "11\n"
          ]
        }
      ]
    },
    {
      "cell_type": "markdown",
      "source": [
        "#More on lists"
      ],
      "metadata": {
        "id": "is0LB45aMocg"
      }
    },
    {
      "cell_type": "code",
      "source": [
        "myList = [2, 3, 5, 7, 8, 9]"
      ],
      "metadata": {
        "id": "VdnrFbVOM-S0"
      },
      "execution_count": 70,
      "outputs": []
    },
    {
      "cell_type": "code",
      "source": [
        "# append\n",
        "\n",
        "myList.append(78)"
      ],
      "metadata": {
        "id": "beZvIqRmM9sw"
      },
      "execution_count": 71,
      "outputs": []
    },
    {
      "cell_type": "code",
      "source": [
        "myList"
      ],
      "metadata": {
        "colab": {
          "base_uri": "https://localhost:8080/"
        },
        "id": "UmO_CdkyNOjh",
        "outputId": "c4444967-3c9a-46b1-88f7-0b8624bbeda8"
      },
      "execution_count": 72,
      "outputs": [
        {
          "output_type": "execute_result",
          "data": {
            "text/plain": [
              "[2, 3, 5, 7, 8, 9, 78]"
            ]
          },
          "metadata": {},
          "execution_count": 72
        }
      ]
    },
    {
      "cell_type": "code",
      "source": [
        "myLista = ['apples', 'bananas', 'guava', 'tamarind']"
      ],
      "metadata": {
        "id": "im5vpfHMNQQR"
      },
      "execution_count": 84,
      "outputs": []
    },
    {
      "cell_type": "code",
      "source": [
        "myLista2 = 'apples', 'bananas', 'guava', 'tamarind'"
      ],
      "metadata": {
        "id": "6W6g0hnqOxn4"
      },
      "execution_count": 87,
      "outputs": []
    },
    {
      "cell_type": "code",
      "source": [
        "type(myLista2)"
      ],
      "metadata": {
        "colab": {
          "base_uri": "https://localhost:8080/"
        },
        "id": "_M-leQ5LO4iZ",
        "outputId": "fcddc457-cb76-4ade-868c-c4108f7635cd"
      },
      "execution_count": 88,
      "outputs": [
        {
          "output_type": "execute_result",
          "data": {
            "text/plain": [
              "tuple"
            ]
          },
          "metadata": {},
          "execution_count": 88
        }
      ]
    },
    {
      "cell_type": "code",
      "source": [
        "myList.append(myLista)"
      ],
      "metadata": {
        "id": "dmqNSkkkOBuj"
      },
      "execution_count": 85,
      "outputs": []
    },
    {
      "cell_type": "code",
      "source": [
        "myList.append(abs(-8675309))"
      ],
      "metadata": {
        "id": "HLzqU2BENzQe"
      },
      "execution_count": 77,
      "outputs": []
    },
    {
      "cell_type": "code",
      "source": [
        "myList.append(pow(5,2))"
      ],
      "metadata": {
        "id": "RJqbis6WOTPh"
      },
      "execution_count": 78,
      "outputs": []
    },
    {
      "cell_type": "code",
      "source": [
        "myList"
      ],
      "metadata": {
        "colab": {
          "base_uri": "https://localhost:8080/"
        },
        "id": "IqOScUIOOY8N",
        "outputId": "73b47cea-3faa-487b-fd83-fce413c6725c"
      },
      "execution_count": 86,
      "outputs": [
        {
          "output_type": "execute_result",
          "data": {
            "text/plain": [
              "[2,\n",
              " 3,\n",
              " 5,\n",
              " 7,\n",
              " 8,\n",
              " 9,\n",
              " 78,\n",
              " ['apples', 'bananas', 'guava', 'tamarind'],\n",
              " 8675309,\n",
              " 25,\n",
              " ('apples', 'bananas', 'guava', 'tamarind'),\n",
              " ['apples', 'bananas', 'guava', 'tamarind']]"
            ]
          },
          "metadata": {},
          "execution_count": 86
        }
      ]
    },
    {
      "cell_type": "code",
      "source": [
        "w = 25\n",
        "myList.count(25)"
      ],
      "metadata": {
        "colab": {
          "base_uri": "https://localhost:8080/"
        },
        "id": "GGjxjwLxPE0E",
        "outputId": "02833b29-191a-4cec-c33c-6fa83715f404"
      },
      "execution_count": 90,
      "outputs": [
        {
          "output_type": "execute_result",
          "data": {
            "text/plain": [
              "1"
            ]
          },
          "metadata": {},
          "execution_count": 90
        }
      ]
    },
    {
      "cell_type": "code",
      "source": [
        "myList.count(x)"
      ],
      "metadata": {
        "colab": {
          "base_uri": "https://localhost:8080/"
        },
        "id": "ydfyFsVMPEws",
        "outputId": "c840a8a5-20c2-4690-87ac-6db3edcf7a4a"
      },
      "execution_count": 91,
      "outputs": [
        {
          "output_type": "execute_result",
          "data": {
            "text/plain": [
              "1"
            ]
          },
          "metadata": {},
          "execution_count": 91
        }
      ]
    },
    {
      "cell_type": "code",
      "source": [
        "myList.count(w)"
      ],
      "metadata": {
        "colab": {
          "base_uri": "https://localhost:8080/"
        },
        "id": "ix-2no86PEuY",
        "outputId": "cec598b8-51d3-4bbe-862c-083a0f4c4977"
      },
      "execution_count": 92,
      "outputs": [
        {
          "output_type": "execute_result",
          "data": {
            "text/plain": [
              "1"
            ]
          },
          "metadata": {},
          "execution_count": 92
        }
      ]
    },
    {
      "cell_type": "code",
      "source": [
        "myList.count(x + w)"
      ],
      "metadata": {
        "colab": {
          "base_uri": "https://localhost:8080/"
        },
        "id": "TuPgT9eaPEr3",
        "outputId": "78ebaeb2-c826-406f-adf4-623fc383f6c0"
      },
      "execution_count": 93,
      "outputs": [
        {
          "output_type": "execute_result",
          "data": {
            "text/plain": [
              "0"
            ]
          },
          "metadata": {},
          "execution_count": 93
        }
      ]
    },
    {
      "cell_type": "code",
      "source": [
        "myList.count(myLista)"
      ],
      "metadata": {
        "colab": {
          "base_uri": "https://localhost:8080/"
        },
        "id": "BuRUELvZPEpe",
        "outputId": "c1a4b56e-d86d-4ea5-fdf5-91eb3e53d182"
      },
      "execution_count": 97,
      "outputs": [
        {
          "output_type": "execute_result",
          "data": {
            "text/plain": [
              "2"
            ]
          },
          "metadata": {},
          "execution_count": 97
        }
      ]
    },
    {
      "cell_type": "code",
      "source": [
        "x"
      ],
      "metadata": {
        "colab": {
          "base_uri": "https://localhost:8080/"
        },
        "id": "yUJYWIDfPEm-",
        "outputId": "101716bf-2d02-4de6-ffea-5044309a33d8"
      },
      "execution_count": 96,
      "outputs": [
        {
          "output_type": "execute_result",
          "data": {
            "text/plain": [
              "8"
            ]
          },
          "metadata": {},
          "execution_count": 96
        }
      ]
    },
    {
      "cell_type": "code",
      "source": [
        "myList[7][3]"
      ],
      "metadata": {
        "colab": {
          "base_uri": "https://localhost:8080/",
          "height": 35
        },
        "id": "BzlQkUdfPEkZ",
        "outputId": "d0e90bb4-559c-4e93-beec-3443ba79397a"
      },
      "execution_count": 105,
      "outputs": [
        {
          "output_type": "execute_result",
          "data": {
            "text/plain": [
              "'tamarind'"
            ],
            "application/vnd.google.colaboratory.intrinsic+json": {
              "type": "string"
            }
          },
          "metadata": {},
          "execution_count": 105
        }
      ]
    },
    {
      "cell_type": "code",
      "source": [
        "# This looked at the place of the element in the list\n",
        "# the second number in the brackets is the place of the element within the list *list-ception*"
      ],
      "metadata": {
        "id": "vKYrK8tRPEiH"
      },
      "execution_count": 106,
      "outputs": []
    },
    {
      "cell_type": "code",
      "source": [
        "myList.append('This is a string')"
      ],
      "metadata": {
        "id": "w5qfZFE6PEfe"
      },
      "execution_count": 107,
      "outputs": []
    },
    {
      "cell_type": "code",
      "source": [
        "myList[-1]"
      ],
      "metadata": {
        "colab": {
          "base_uri": "https://localhost:8080/",
          "height": 35
        },
        "id": "YR3Et-byPEdQ",
        "outputId": "2697bdbe-13bd-40b1-b687-3599003f72f1"
      },
      "execution_count": 108,
      "outputs": [
        {
          "output_type": "execute_result",
          "data": {
            "text/plain": [
              "'This is a string'"
            ],
            "application/vnd.google.colaboratory.intrinsic+json": {
              "type": "string"
            }
          },
          "metadata": {},
          "execution_count": 108
        }
      ]
    },
    {
      "cell_type": "code",
      "source": [
        "# the negative 1 tells you what was last inputted into the list"
      ],
      "metadata": {
        "id": "I5VC0Uk1Oarc"
      },
      "execution_count": 109,
      "outputs": []
    },
    {
      "cell_type": "code",
      "source": [
        "myDict = {'k1':'v1', 'k2':'v2', 'k3':'v3'}"
      ],
      "metadata": {
        "id": "ahfr2CCZR7km"
      },
      "execution_count": 110,
      "outputs": []
    },
    {
      "cell_type": "code",
      "source": [
        "myDict.keys()"
      ],
      "metadata": {
        "colab": {
          "base_uri": "https://localhost:8080/"
        },
        "id": "_IXQWNPpTKGo",
        "outputId": "f88759c3-e0d0-41a7-f198-ab6fe06c7041"
      },
      "execution_count": 111,
      "outputs": [
        {
          "output_type": "execute_result",
          "data": {
            "text/plain": [
              "dict_keys(['k1', 'k2', 'k3'])"
            ]
          },
          "metadata": {},
          "execution_count": 111
        }
      ]
    },
    {
      "cell_type": "code",
      "source": [
        "myDict.values()"
      ],
      "metadata": {
        "colab": {
          "base_uri": "https://localhost:8080/"
        },
        "id": "2d6nIrHdTNcr",
        "outputId": "7f6d8fc5-1c0a-4a17-ca53-3ced2e24e51d"
      },
      "execution_count": 112,
      "outputs": [
        {
          "output_type": "execute_result",
          "data": {
            "text/plain": [
              "dict_values(['v1', 'v2', 'v3'])"
            ]
          },
          "metadata": {},
          "execution_count": 112
        }
      ]
    },
    {
      "cell_type": "code",
      "source": [
        "myDict.items()"
      ],
      "metadata": {
        "colab": {
          "base_uri": "https://localhost:8080/"
        },
        "id": "qvqIzSdiTQSP",
        "outputId": "9293bd15-87ec-4fd9-8075-686922fb6585"
      },
      "execution_count": 113,
      "outputs": [
        {
          "output_type": "execute_result",
          "data": {
            "text/plain": [
              "dict_items([('k1', 'v1'), ('k2', 'v2'), ('k3', 'v3')])"
            ]
          },
          "metadata": {},
          "execution_count": 113
        }
      ]
    },
    {
      "cell_type": "code",
      "source": [
        "myDict2 = { 'myList':myLista }"
      ],
      "metadata": {
        "id": "HYqIJDakTTau"
      },
      "execution_count": 116,
      "outputs": []
    },
    {
      "cell_type": "code",
      "source": [
        "myDict2.keys()"
      ],
      "metadata": {
        "colab": {
          "base_uri": "https://localhost:8080/"
        },
        "id": "rwXMxGQ5TdCi",
        "outputId": "56518c6b-7ca0-463d-b9f8-7478a700e1b8"
      },
      "execution_count": 118,
      "outputs": [
        {
          "output_type": "execute_result",
          "data": {
            "text/plain": [
              "dict_keys(['myList'])"
            ]
          },
          "metadata": {},
          "execution_count": 118
        }
      ]
    },
    {
      "cell_type": "code",
      "source": [
        "myDict2.values()"
      ],
      "metadata": {
        "colab": {
          "base_uri": "https://localhost:8080/"
        },
        "id": "nxaN8S_BTnwS",
        "outputId": "d0be77e8-64a6-4269-e01b-969ea243148b"
      },
      "execution_count": 119,
      "outputs": [
        {
          "output_type": "execute_result",
          "data": {
            "text/plain": [
              "dict_values([['apples', 'bananas', 'guava', 'tamarind']])"
            ]
          },
          "metadata": {},
          "execution_count": 119
        }
      ]
    },
    {
      "cell_type": "code",
      "source": [],
      "metadata": {
        "id": "u8ovrlgRTwgv"
      },
      "execution_count": null,
      "outputs": []
    }
  ]
}