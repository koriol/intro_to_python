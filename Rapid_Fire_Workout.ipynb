{
  "nbformat": 4,
  "nbformat_minor": 0,
  "metadata": {
    "colab": {
      "provenance": [],
      "authorship_tag": "ABX9TyMyXsRvze+uX6YD9wMWXogw",
      "include_colab_link": true
    },
    "kernelspec": {
      "name": "python3",
      "display_name": "Python 3"
    },
    "language_info": {
      "name": "python"
    }
  },
  "cells": [
    {
      "cell_type": "markdown",
      "metadata": {
        "id": "view-in-github",
        "colab_type": "text"
      },
      "source": [
        "<a href=\"https://colab.research.google.com/github/koriol/intro_to_python/blob/main/Rapid_Fire_Workout.ipynb\" target=\"_parent\"><img src=\"https://colab.research.google.com/assets/colab-badge.svg\" alt=\"Open In Colab\"/></a>"
      ]
    },
    {
      "cell_type": "markdown",
      "source": [
        "##Return the count of a given substring from a string"
      ],
      "metadata": {
        "id": "AUSx9Dp5C2fT"
      }
    },
    {
      "cell_type": "code",
      "source": [
        "# What I want?\n",
        "#To return the count of a specific part from a string, example for a secific word\n",
        "#What do I have?\n",
        "#A string\n",
        "#What do I need?\n",
        "#user input for a string, what the user is looking for in the string, \n",
        "#to count the amount of times the sought for string appears\n",
        "\n",
        "def searching(**kwargs, a):\n",
        "  '''\n",
        "  Created by: Koriol\n",
        "  Input: A string and a keyword\n",
        "  Output: how many times the keyword appears\n",
        "  '''\n",
        "  print('In the string {}, {} appears'.format())\n"
      ],
      "metadata": {
        "colab": {
          "base_uri": "https://localhost:8080/",
          "height": 131
        },
        "id": "gg2Dh58fDWJW",
        "outputId": "c84f146e-62d0-4499-832b-bb0a45ef3f06"
      },
      "execution_count": 4,
      "outputs": [
        {
          "output_type": "error",
          "ename": "SyntaxError",
          "evalue": "ignored",
          "traceback": [
            "\u001b[0;36m  File \u001b[0;32m\"<ipython-input-4-4b3e51c21f19>\"\u001b[0;36m, line \u001b[0;32m9\u001b[0m\n\u001b[0;31m    def searching(**kwargs, a):\u001b[0m\n\u001b[0m                            ^\u001b[0m\n\u001b[0;31mSyntaxError\u001b[0m\u001b[0;31m:\u001b[0m invalid syntax\n"
          ]
        }
      ]
    },
    {
      "cell_type": "markdown",
      "source": [
        "##Display numbers divisible by 5 from a list"
      ],
      "metadata": {
        "id": "tnmO8Ne8J743"
      }
    },
    {
      "cell_type": "code",
      "source": [
        "def of_five(*args):\n",
        "  '''\n",
        "  Created by: Koriol\n",
        "  Input: a list of integers\n",
        "  Output: numbers divisible by 5 from the inputted list\n",
        "  '''\n",
        "  y = int(args) % 5\n",
        "  print('From our list {}, {} are divisible by 5.'.format(args,args[y]))"
      ],
      "metadata": {
        "id": "_gmzxPMXKQ-A"
      },
      "execution_count": 21,
      "outputs": []
    },
    {
      "cell_type": "code",
      "source": [
        "of_five(2,3,4,5,6,7,8,9,10)"
      ],
      "metadata": {
        "colab": {
          "base_uri": "https://localhost:8080/",
          "height": 270
        },
        "id": "Bgf1vvhWKQ7o",
        "outputId": "39710e6d-9cdc-41f9-fd0c-e0036e26021d"
      },
      "execution_count": 22,
      "outputs": [
        {
          "output_type": "error",
          "ename": "TypeError",
          "evalue": "ignored",
          "traceback": [
            "\u001b[0;31m---------------------------------------------------------------------------\u001b[0m",
            "\u001b[0;31mTypeError\u001b[0m                                 Traceback (most recent call last)",
            "\u001b[0;32m<ipython-input-22-d2e9c6c70f49>\u001b[0m in \u001b[0;36m<cell line: 1>\u001b[0;34m()\u001b[0m\n\u001b[0;32m----> 1\u001b[0;31m \u001b[0mof_five\u001b[0m\u001b[0;34m(\u001b[0m\u001b[0;36m2\u001b[0m\u001b[0;34m,\u001b[0m\u001b[0;36m3\u001b[0m\u001b[0;34m,\u001b[0m\u001b[0;36m4\u001b[0m\u001b[0;34m,\u001b[0m\u001b[0;36m5\u001b[0m\u001b[0;34m,\u001b[0m\u001b[0;36m6\u001b[0m\u001b[0;34m,\u001b[0m\u001b[0;36m7\u001b[0m\u001b[0;34m,\u001b[0m\u001b[0;36m8\u001b[0m\u001b[0;34m,\u001b[0m\u001b[0;36m9\u001b[0m\u001b[0;34m,\u001b[0m\u001b[0;36m10\u001b[0m\u001b[0;34m)\u001b[0m\u001b[0;34m\u001b[0m\u001b[0;34m\u001b[0m\u001b[0m\n\u001b[0m",
            "\u001b[0;32m<ipython-input-21-29f48b0450c4>\u001b[0m in \u001b[0;36mof_five\u001b[0;34m(*args)\u001b[0m\n\u001b[1;32m      5\u001b[0m   \u001b[0mOutput\u001b[0m\u001b[0;34m:\u001b[0m \u001b[0mnumbers\u001b[0m \u001b[0mdivisible\u001b[0m \u001b[0mby\u001b[0m \u001b[0;36m5\u001b[0m \u001b[0;32mfrom\u001b[0m \u001b[0mthe\u001b[0m \u001b[0minputted\u001b[0m \u001b[0mlist\u001b[0m\u001b[0;34m\u001b[0m\u001b[0;34m\u001b[0m\u001b[0m\n\u001b[1;32m      6\u001b[0m   '''\n\u001b[0;32m----> 7\u001b[0;31m   \u001b[0my\u001b[0m \u001b[0;34m=\u001b[0m \u001b[0mint\u001b[0m\u001b[0;34m(\u001b[0m\u001b[0margs\u001b[0m\u001b[0;34m)\u001b[0m \u001b[0;34m%\u001b[0m \u001b[0;36m5\u001b[0m\u001b[0;34m\u001b[0m\u001b[0;34m\u001b[0m\u001b[0m\n\u001b[0m\u001b[1;32m      8\u001b[0m   \u001b[0mprint\u001b[0m\u001b[0;34m(\u001b[0m\u001b[0;34m'From our list {}, {} are divisible by 5.'\u001b[0m\u001b[0;34m.\u001b[0m\u001b[0mformat\u001b[0m\u001b[0;34m(\u001b[0m\u001b[0margs\u001b[0m\u001b[0;34m,\u001b[0m\u001b[0margs\u001b[0m\u001b[0;34m[\u001b[0m\u001b[0my\u001b[0m\u001b[0;34m]\u001b[0m\u001b[0;34m)\u001b[0m\u001b[0;34m)\u001b[0m\u001b[0;34m\u001b[0m\u001b[0;34m\u001b[0m\u001b[0m\n",
            "\u001b[0;31mTypeError\u001b[0m: int() argument must be a string, a bytes-like object or a real number, not 'tuple'"
          ]
        }
      ]
    },
    {
      "cell_type": "markdown",
      "source": [
        "## Check if the first and last number of a list is the same"
      ],
      "metadata": {
        "id": "5nnKnEU-KQ5h"
      }
    },
    {
      "cell_type": "code",
      "source": [
        "# is the first and last number the same?\n",
        "\n",
        "given_list = [1, 2, 2, 3, 4, 9, 87, 54, 32, 11]\n",
        "if given_list[0] == given_list[-1]:\n",
        "  print('The first and last number is the same')\n",
        "else:\n",
        "  print('The first and last number are not the same')"
      ],
      "metadata": {
        "colab": {
          "base_uri": "https://localhost:8080/"
        },
        "id": "JGY-QLIXKQ3u",
        "outputId": "d9ee1071-0a4a-4da2-c6ba-9a3267d51208"
      },
      "execution_count": 24,
      "outputs": [
        {
          "output_type": "stream",
          "name": "stdout",
          "text": [
            "The first and last number are not the same\n"
          ]
        }
      ]
    },
    {
      "cell_type": "markdown",
      "source": [
        "##Display the current date and time"
      ],
      "metadata": {
        "id": "0jrIRoMvKQ1d"
      }
    },
    {
      "cell_type": "code",
      "source": [
        "import datetime"
      ],
      "metadata": {
        "id": "m7cgJLNCKQy_"
      },
      "execution_count": 25,
      "outputs": []
    },
    {
      "cell_type": "code",
      "source": [
        "right_now = datetime.datetime.now()\n",
        "print(\"Current date and time: \")\n",
        "print(right_now.strftime(\"%m-%d-%Y %H:%M:%S\"))"
      ],
      "metadata": {
        "colab": {
          "base_uri": "https://localhost:8080/"
        },
        "id": "FsNku3hGKQwz",
        "outputId": "907d1ae7-a5cf-4569-9ff0-6cc11e74d9dc"
      },
      "execution_count": 27,
      "outputs": [
        {
          "output_type": "stream",
          "name": "stdout",
          "text": [
            "Current date and time: \n",
            "04-28-2023 00:28:10\n"
          ]
        }
      ]
    },
    {
      "cell_type": "markdown",
      "source": [
        "## Print first and last name in reverse order with a space between them"
      ],
      "metadata": {
        "id": "hlZ3O-JsKQt3"
      }
    },
    {
      "cell_type": "code",
      "source": [
        "# This shows organizing variables\n",
        "\n",
        "first = input('First name: ')\n",
        "last = input('Last name: ')\n",
        "print(last, first)"
      ],
      "metadata": {
        "colab": {
          "base_uri": "https://localhost:8080/"
        },
        "id": "m2aJlEW_KQrf",
        "outputId": "993e58a1-fbe0-4851-d74a-9081982e0b75"
      },
      "execution_count": 34,
      "outputs": [
        {
          "output_type": "stream",
          "name": "stdout",
          "text": [
            "First name: k\n",
            "Last name: o\n",
            "o k\n"
          ]
        }
      ]
    },
    {
      "cell_type": "markdown",
      "source": [
        "## Display the first and last colors from a given list"
      ],
      "metadata": {
        "id": "VHCZD1RFRH4n"
      }
    },
    {
      "cell_type": "code",
      "source": [
        "color_list = ['red', 'orange', 'yellow', 'green', 'blue', 'indigo','violet']\n",
        "print('The first color of the given list is ' + color_list[0] + ' and the last color is ' + color_list[-1])"
      ],
      "metadata": {
        "colab": {
          "base_uri": "https://localhost:8080/"
        },
        "id": "1Hac3mCCRxF7",
        "outputId": "d2740e82-3302-4edd-b29d-982dbad02d7f"
      },
      "execution_count": 36,
      "outputs": [
        {
          "output_type": "stream",
          "name": "stdout",
          "text": [
            "The first color of the given list is red and the last color is violet\n"
          ]
        }
      ]
    },
    {
      "cell_type": "markdown",
      "source": [
        "##Input an integer(n) and computes the value of n+nn+nnn"
      ],
      "metadata": {
        "id": "Ysju5o6fRxC8"
      }
    },
    {
      "cell_type": "code",
      "source": [
        "# To accept input as an integer and calculate the value of a process\n",
        "\n",
        "val = int(input('What is the integer? '))\n",
        "print('With input ', val,' the calculated output is ', {val + val * val + pow(val, 3)})"
      ],
      "metadata": {
        "colab": {
          "base_uri": "https://localhost:8080/"
        },
        "id": "Yr9cy_8wRxBS",
        "outputId": "d4fed4a4-f1bd-47ad-c914-26bea3221f15"
      },
      "execution_count": 42,
      "outputs": [
        {
          "output_type": "stream",
          "name": "stdout",
          "text": [
            "What is the integer? 2\n",
            "With input  2  the calculated output is  {14}\n"
          ]
        }
      ]
    },
    {
      "cell_type": "markdown",
      "source": [
        "##Write a Python program to print the calendar of a given month and year."
      ],
      "metadata": {
        "id": "kBqcVMXZRw95"
      }
    },
    {
      "cell_type": "code",
      "source": [
        "import calendar"
      ],
      "metadata": {
        "id": "c1riiFXERw7E"
      },
      "execution_count": 40,
      "outputs": []
    },
    {
      "cell_type": "code",
      "source": [
        "help(calendar)"
      ],
      "metadata": {
        "id": "IIii1SeNRw4C"
      },
      "execution_count": null,
      "outputs": []
    },
    {
      "cell_type": "code",
      "source": [
        "print(calendar.month(2000, 2))"
      ],
      "metadata": {
        "colab": {
          "base_uri": "https://localhost:8080/"
        },
        "id": "Ffuy24pbRw1a",
        "outputId": "f4bd40c3-dfc0-4d5e-cf18-119787abe4be"
      },
      "execution_count": 53,
      "outputs": [
        {
          "output_type": "stream",
          "name": "stdout",
          "text": [
            "   February 2000\n",
            "Mo Tu We Th Fr Sa Su\n",
            "    1  2  3  4  5  6\n",
            " 7  8  9 10 11 12 13\n",
            "14 15 16 17 18 19 20\n",
            "21 22 23 24 25 26 27\n",
            "28 29\n",
            "\n"
          ]
        }
      ]
    },
    {
      "cell_type": "markdown",
      "source": [
        "##Write a Python program to find whether a given number (accept from the user) is even or odd"
      ],
      "metadata": {
        "id": "wiHmmXu5RwzI"
      }
    },
    {
      "cell_type": "code",
      "source": [
        "# function to practice identifying even or odd numbers\n",
        "\n",
        "def num_class(number):\n",
        "  '''\n",
        "  Created by: Koriol\n",
        "  Input: An integer\n",
        "  Output: if inputted integer is even or odd\n",
        "  '''\n",
        "  if int(number) % 2 == 0:\n",
        "    print('The number is even')\n",
        "  else:\n",
        "    print('The number is odd')"
      ],
      "metadata": {
        "id": "18XAaeQQRwwK"
      },
      "execution_count": 60,
      "outputs": []
    },
    {
      "cell_type": "code",
      "source": [
        "num_class(44)"
      ],
      "metadata": {
        "colab": {
          "base_uri": "https://localhost:8080/"
        },
        "id": "Ju7DFIjFRwuM",
        "outputId": "59f87646-b7af-411e-a130-4fdd3e3fb92a"
      },
      "execution_count": 59,
      "outputs": [
        {
          "output_type": "stream",
          "name": "stdout",
          "text": [
            "The number is even\n"
          ]
        }
      ]
    },
    {
      "cell_type": "markdown",
      "source": [
        "##Write a Python program to count the number in a given list"
      ],
      "metadata": {
        "id": "JfW1XSx7Rwrk"
      }
    },
    {
      "cell_type": "code",
      "source": [
        "given_list = [1, 2, 2, 3, 4, 9, 87, 54, 32, 11]\n",
        "given_list.count(4)"
      ],
      "metadata": {
        "colab": {
          "base_uri": "https://localhost:8080/"
        },
        "id": "CEBLoEsORwpV",
        "outputId": "fb80ee6d-e52a-4324-ca51-18be938eb259"
      },
      "execution_count": 74,
      "outputs": [
        {
          "output_type": "execute_result",
          "data": {
            "text/plain": [
              "1"
            ]
          },
          "metadata": {},
          "execution_count": 74
        }
      ]
    },
    {
      "cell_type": "markdown",
      "source": [
        "##Write a Python program to sum of three integers. However, if two values are equal sum will be zero"
      ],
      "metadata": {
        "id": "K5iNZXfmRwjG"
      }
    },
    {
      "cell_type": "code",
      "source": [
        "x = 3\n",
        "y = 4\n",
        "z = 5\n",
        "sum = x + y + z\n",
        "if x == y or x == z or y == z:\n",
        "  print('Sum is zero')\n",
        "else:\n",
        "  print(sum)"
      ],
      "metadata": {
        "colab": {
          "base_uri": "https://localhost:8080/"
        },
        "id": "XeR6LibzRwhM",
        "outputId": "3f018bda-b7de-4fac-a3d5-ee898fca47db"
      },
      "execution_count": 76,
      "outputs": [
        {
          "output_type": "stream",
          "name": "stdout",
          "text": [
            "12\n"
          ]
        }
      ]
    },
    {
      "cell_type": "markdown",
      "source": [
        "##Write a Python progra, to add two objects if both objects are integer type"
      ],
      "metadata": {
        "id": "EgxzZVdoRwe4"
      }
    },
    {
      "cell_type": "code",
      "source": [
        "'''\n",
        "Created by: Koriol\n",
        "Input: two integers\n",
        "output: sum of two integers if they are the same integer type\n",
        "'''\n",
        "a = 2\n",
        "b = 3\n",
        "if type(a) == type(b) and type(a) == int:\n",
        "  print(a+b)\n",
        "else:\n",
        "  print('The values are not integers')"
      ],
      "metadata": {
        "colab": {
          "base_uri": "https://localhost:8080/"
        },
        "id": "n7xlIim0a0vL",
        "outputId": "250c78b7-12d8-4e3c-f4a0-2a1023199eaa"
      },
      "execution_count": 83,
      "outputs": [
        {
          "output_type": "stream",
          "name": "stdout",
          "text": [
            "The values are not integers\n"
          ]
        }
      ]
    },
    {
      "cell_type": "markdown",
      "source": [
        "##Write a Python program to solve (x+y)*(x+y)"
      ],
      "metadata": {
        "id": "sbuMBi5ta0sR"
      }
    },
    {
      "cell_type": "code",
      "source": [
        "x = 3\n",
        "y = 4\n",
        "print(pow(x, 2) + 2 * x * y + pow(y, 2))"
      ],
      "metadata": {
        "colab": {
          "base_uri": "https://localhost:8080/"
        },
        "id": "XVPqGzQ1a0p2",
        "outputId": "deae1a23-289a-4bdc-cc84-e192a5ba71fe"
      },
      "execution_count": 84,
      "outputs": [
        {
          "output_type": "stream",
          "name": "stdout",
          "text": [
            "49\n"
          ]
        }
      ]
    },
    {
      "cell_type": "code",
      "source": [
        "import os\n",
        "import sys\n",
        "import platform\n",
        "import sysconfig"
      ],
      "metadata": {
        "id": "8FmonsO2a0n6"
      },
      "execution_count": 85,
      "outputs": []
    },
    {
      "cell_type": "code",
      "source": [
        "from subprocess import call\n",
        "call([\"ls\", \"-l\"])"
      ],
      "metadata": {
        "colab": {
          "base_uri": "https://localhost:8080/"
        },
        "id": "DplBvMzwa0l2",
        "outputId": "63c47e46-0491-423c-d656-ce4909e9839e"
      },
      "execution_count": 86,
      "outputs": [
        {
          "output_type": "execute_result",
          "data": {
            "text/plain": [
              "0"
            ]
          },
          "metadata": {},
          "execution_count": 86
        }
      ]
    },
    {
      "cell_type": "markdown",
      "source": [
        "##Write a Python program to convert the distance (in feet) to inches, yards, and miles."
      ],
      "metadata": {
        "id": "5U7_BWR7a0jd"
      }
    },
    {
      "cell_type": "code",
      "source": [
        "#make sure int is in front of the input to recognize as an integer\n",
        "\n",
        "feet = int(input('How many feet? '))\n",
        "print(feet, 'feet in inches is ', (feet * 12), '. In yards is ', (feet / 3), ' and in miles is ', (feet * 0.0001894))"
      ],
      "metadata": {
        "colab": {
          "base_uri": "https://localhost:8080/"
        },
        "id": "DZOhgNODd5Ej",
        "outputId": "1c5284b6-9343-4165-b129-f2673dbfd655"
      },
      "execution_count": 113,
      "outputs": [
        {
          "output_type": "stream",
          "name": "stdout",
          "text": [
            "How many feet? 3\n",
            "3 feet in inches is  36 . In yards is  1.0  and in miles is  0.0005682\n"
          ]
        }
      ]
    },
    {
      "cell_type": "markdown",
      "source": [
        "## Write a Python program to convert height (in feet and inches) to centimeters."
      ],
      "metadata": {
        "id": "c6WHPdZFa0hs"
      }
    },
    {
      "cell_type": "code",
      "source": [
        "feet = int(input('How many feet? '))\n",
        "inches = int(input('How many inches? '))\n",
        "print('The total centimeters of ', feet, 'feet and', inches, 'inches is ', (feet * 30.48 + inches * 2.54), 'centimeters.')"
      ],
      "metadata": {
        "colab": {
          "base_uri": "https://localhost:8080/"
        },
        "id": "pnvsyDnnf4w6",
        "outputId": "b5ae4b0a-25ef-406c-d2ca-1b91c791e997"
      },
      "execution_count": 116,
      "outputs": [
        {
          "output_type": "stream",
          "name": "stdout",
          "text": [
            "How many feet? 3\n",
            "How many inches? 5\n",
            "The total centimeters of  3 feet and 5 inches is  104.14 centimeters.\n"
          ]
        }
      ]
    },
    {
      "cell_type": "markdown",
      "source": [
        "##Write a Python program to calculate the hypotenuse of a right angled triangle."
      ],
      "metadata": {
        "id": "MnZ2Rq_Ua0fX"
      }
    },
    {
      "cell_type": "code",
      "source": [
        "a = 3\n",
        "b = 4\n",
        "print('The hypotenuse of a right triangle given the legs', a, 'and', b, 'is', pow(a*a + b*b, 0.5))"
      ],
      "metadata": {
        "colab": {
          "base_uri": "https://localhost:8080/"
        },
        "id": "5cqPGn5Rh5PU",
        "outputId": "1eb2654d-8944-4051-e481-413679a9b0ce"
      },
      "execution_count": 119,
      "outputs": [
        {
          "output_type": "stream",
          "name": "stdout",
          "text": [
            "The hypotenuse of a right triangle given the legs 3 and 4 is 5.0\n"
          ]
        }
      ]
    },
    {
      "cell_type": "code",
      "source": [],
      "metadata": {
        "id": "4ea6TCldd5A5"
      },
      "execution_count": null,
      "outputs": []
    },
    {
      "cell_type": "code",
      "source": [],
      "metadata": {
        "id": "-7nrZHtqd4-t"
      },
      "execution_count": null,
      "outputs": []
    },
    {
      "cell_type": "code",
      "source": [],
      "metadata": {
        "id": "4gof8WaJd48a"
      },
      "execution_count": null,
      "outputs": []
    },
    {
      "cell_type": "code",
      "source": [],
      "metadata": {
        "id": "eAOx2X-Bd46J"
      },
      "execution_count": null,
      "outputs": []
    },
    {
      "cell_type": "code",
      "source": [],
      "metadata": {
        "id": "8hhJTNJTd43-"
      },
      "execution_count": null,
      "outputs": []
    },
    {
      "cell_type": "code",
      "source": [],
      "metadata": {
        "id": "e1UwCQ3Ga0dw"
      },
      "execution_count": null,
      "outputs": []
    },
    {
      "cell_type": "code",
      "source": [],
      "metadata": {
        "id": "J9zEU3T7a0bX"
      },
      "execution_count": null,
      "outputs": []
    },
    {
      "cell_type": "code",
      "source": [],
      "metadata": {
        "id": "T7d7Lf7ha0Zj"
      },
      "execution_count": null,
      "outputs": []
    },
    {
      "cell_type": "code",
      "source": [],
      "metadata": {
        "id": "gr5fxOQ4a0Xw"
      },
      "execution_count": null,
      "outputs": []
    },
    {
      "cell_type": "code",
      "source": [],
      "metadata": {
        "id": "26gDW_-Ra0WK"
      },
      "execution_count": null,
      "outputs": []
    },
    {
      "cell_type": "code",
      "source": [],
      "metadata": {
        "id": "X1retlCVa0T2"
      },
      "execution_count": null,
      "outputs": []
    },
    {
      "cell_type": "code",
      "source": [],
      "metadata": {
        "id": "U6-gDY5Pa0R2"
      },
      "execution_count": null,
      "outputs": []
    },
    {
      "cell_type": "code",
      "source": [],
      "metadata": {
        "id": "bhh1ZTiba0Pg"
      },
      "execution_count": null,
      "outputs": []
    },
    {
      "cell_type": "code",
      "source": [],
      "metadata": {
        "id": "-pG2l9tKa0M6"
      },
      "execution_count": null,
      "outputs": []
    },
    {
      "cell_type": "code",
      "source": [],
      "metadata": {
        "id": "g0vo45Gma0KR"
      },
      "execution_count": null,
      "outputs": []
    },
    {
      "cell_type": "code",
      "source": [],
      "metadata": {
        "id": "WOKKKWIEa0G8"
      },
      "execution_count": null,
      "outputs": []
    },
    {
      "cell_type": "code",
      "source": [],
      "metadata": {
        "id": "42c4sfL-a0E2"
      },
      "execution_count": null,
      "outputs": []
    },
    {
      "cell_type": "code",
      "source": [],
      "metadata": {
        "id": "6EFTVrQxa0C8"
      },
      "execution_count": null,
      "outputs": []
    }
  ]
}